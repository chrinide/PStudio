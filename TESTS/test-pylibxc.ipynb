{
  "cells": [
    {
      "cell_type": "code",
      "source": [
        "from pylibxc import LibXCFunctional\n",
        "import pylibxc.util\n",
        "print(pylibxc.util.xc_version())\n",
        "print(pylibxc.util.xc_version_string())\n",
        "print(pylibxc.util.xc_number_of_functionals())"
      ],
      "outputs": [
        {
          "output_type": "stream",
          "name": "stdout",
          "text": [
            "(4, 2, 3)\n",
            "4.2.3\n",
            "446\n"
          ]
        }
      ],
      "execution_count": 13,
      "metadata": {
        "collapsed": false,
        "jupyter": {
          "source_hidden": false,
          "outputs_hidden": false
        },
        "nteract": {
          "transient": {
            "deleting": false
          }
        },
        "execution": {
          "iopub.status.busy": "2020-03-31T14:21:51.046Z",
          "iopub.execute_input": "2020-03-31T14:21:51.049Z",
          "iopub.status.idle": "2020-03-31T14:21:51.054Z",
          "shell.execute_reply": "2020-03-31T14:21:51.057Z"
        }
      }
    },
    {
      "cell_type": "code",
      "source": [
        "for id in pylibxc.util.xc_available_functional_numbers():\n",
        "    name = pylibxc.util.xc_functional_get_name(id)\n",
        "    if 'pbe' in name:\n",
        "        print(id, name)"
      ],
      "outputs": [
        {
          "output_type": "stream",
          "name": "stdout",
          "text": [
            "49 gga_x_pbe_mol\n",
            "53 gga_k_revapbeint\n",
            "54 gga_k_apbeint\n",
            "55 gga_k_revapbe\n",
            "59 gga_x_pbe_tca\n",
            "60 gga_x_pbeint\n",
            "61 gga_c_zpbeint\n",
            "62 gga_c_pbeint\n",
            "63 gga_c_zpbesol\n",
            "65 gga_xc_opbe_d\n",
            "69 gga_x_vmt84_pbe\n",
            "71 gga_x_vmt_pbe\n",
            "86 gga_c_op_pbe\n",
            "89 gga_c_spbe\n",
            "101 gga_x_pbe\n",
            "102 gga_x_pbe_r\n",
            "116 gga_x_pbe_sol\n",
            "117 gga_x_rpbe\n",
            "121 gga_x_pbea\n",
            "122 gga_x_mpbe\n",
            "123 gga_x_xpbe\n",
            "126 gga_x_pbe_jsjr\n",
            "129 gga_x_2d_pbe\n",
            "130 gga_c_pbe\n",
            "133 gga_c_pbe_sol\n",
            "136 gga_c_xpbe\n",
            "138 gga_c_pbe_jrgx\n",
            "140 gga_x_pbek1_vdw\n",
            "141 gga_x_optpbe_vdw\n",
            "173 gga_xc_pbe1w\n",
            "175 gga_xc_pbelyp1w\n",
            "184 gga_x_apbe\n",
            "185 gga_k_apbe\n",
            "186 gga_c_apbe\n",
            "246 gga_c_pbeloc\n",
            "258 gga_c_pbefe\n",
            "265 gga_x_pbefe\n",
            "272 gga_c_pbe_mol\n",
            "291 gga_x_pbetrans\n",
            "524 gga_x_wpbeh\n",
            "525 gga_x_hjs_pbe\n",
            "526 gga_x_hjs_pbe_sol\n",
            "539 gga_x_pbepow\n",
            "557 gga_c_zvpbeint\n",
            "558 gga_c_zvpbesol\n",
            "560 gga_c_tm_pbe\n",
            "595 gga_k_pbe3\n",
            "596 gga_k_pbe4\n",
            "273 hyb_gga_xc_pbe_mol0\n",
            "274 hyb_gga_xc_pbe_sol0\n",
            "275 hyb_gga_xc_pbeb0\n",
            "276 hyb_gga_xc_pbe_molb0\n",
            "290 hyb_gga_xc_pbe50\n",
            "406 hyb_gga_xc_pbeh\n",
            "429 hyb_gga_xc_hjs_pbe\n",
            "430 hyb_gga_xc_hjs_pbe_sol\n",
            "456 hyb_gga_xc_pbe0_13\n",
            "465 hyb_gga_xc_lrc_wpbeh\n",
            "467 hyb_gga_xc_lcy_pbe\n",
            "472 hyb_gga_xc_hpbeint\n",
            "473 hyb_gga_xc_lrc_wpbe\n",
            "478 hyb_gga_xc_lc_wpbe\n",
            "484 hyb_gga_xc_mpw1pbe\n",
            "576 mgga_x_pbe_gx\n",
            "568 hyb_mgga_xc_pbe1kcis\n"
          ]
        }
      ],
      "execution_count": 22,
      "metadata": {
        "collapsed": false,
        "jupyter": {
          "source_hidden": false,
          "outputs_hidden": false
        },
        "nteract": {
          "transient": {
            "deleting": false
          }
        },
        "execution": {
          "iopub.status.busy": "2020-03-31T14:28:02.575Z",
          "iopub.execute_input": "2020-03-31T14:28:02.577Z",
          "iopub.status.idle": "2020-03-31T14:28:02.583Z",
          "shell.execute_reply": "2020-03-31T14:28:02.585Z"
        }
      }
    },
    {
      "cell_type": "code",
      "source": [
        "lda_x = LibXCFunctional('LDA_X', spin=1)\n",
        "print(lda_x.describe())"
      ],
      "outputs": [
        {
          "output_type": "stream",
          "name": "stdout",
          "text": [
            "Functional ID: 1\n",
            "Functional Name: lda_x\n",
            "Attributes:\n",
            "    Name: Slater exchange\n",
            "    Kind: 0\n",
            "  Family: 1\n",
            "Citations:\n",
            "   P. A. M. Dirac, Math. Proc. Cambridge Philos. Soc. 26, 376 (1930)\n",
            "   F. Bloch, Z. Phys. 57, 545 (1929)\n"
          ]
        }
      ],
      "execution_count": 20,
      "metadata": {
        "collapsed": false,
        "jupyter": {
          "source_hidden": false,
          "outputs_hidden": false
        },
        "nteract": {
          "transient": {
            "deleting": false
          }
        },
        "execution": {
          "iopub.status.busy": "2020-03-31T14:24:44.559Z",
          "iopub.execute_input": "2020-03-31T14:24:44.562Z",
          "iopub.status.idle": "2020-03-31T14:24:44.568Z",
          "shell.execute_reply": "2020-03-31T14:24:44.571Z"
        }
      }
    },
    {
      "cell_type": "code",
      "source": [
        "lda_c_pz = LibXCFunctional('LDA_C_PZ', spin=1)\n",
        "print(lda_c_pz.describe())"
      ],
      "outputs": [
        {
          "output_type": "stream",
          "name": "stdout",
          "text": [
            "Functional ID: 9\n",
            "Functional Name: lda_c_pz\n",
            "Attributes:\n",
            "    Name: Perdew & Zunger\n",
            "    Kind: 1\n",
            "  Family: 1\n",
            "Citations:\n",
            "   J. P. Perdew and A. Zunger, Phys. Rev. B 23, 5048 (1981)\n"
          ]
        }
      ],
      "execution_count": 21,
      "metadata": {
        "collapsed": false,
        "jupyter": {
          "source_hidden": false,
          "outputs_hidden": false
        },
        "nteract": {
          "transient": {
            "deleting": false
          }
        },
        "execution": {
          "iopub.status.busy": "2020-03-31T14:25:32.001Z",
          "iopub.execute_input": "2020-03-31T14:25:32.004Z",
          "iopub.status.idle": "2020-03-31T14:25:32.011Z",
          "shell.execute_reply": "2020-03-31T14:25:32.014Z"
        }
      }
    },
    {
      "cell_type": "code",
      "source": [
        "test = LibXCFunctional(65, spin=1)\n",
        "print(test.describe())"
      ],
      "outputs": [
        {
          "output_type": "stream",
          "name": "stdout",
          "text": [
            "Functional ID: 65\n",
            "Functional Name: gga_xc_opbe_d\n",
            "Attributes:\n",
            "    Name: oPBE-D functional of Goerigk and Grimme\n",
            "    Kind: 2\n",
            "  Family: 2\n",
            "Citations:\n",
            "   L. Goerigk and S. Grimme, J. Chem. Theory Comput. 6, 107 (2010)\n"
          ]
        }
      ],
      "execution_count": 26,
      "metadata": {
        "collapsed": false,
        "jupyter": {
          "source_hidden": false,
          "outputs_hidden": false
        },
        "nteract": {
          "transient": {
            "deleting": false
          }
        },
        "execution": {
          "iopub.status.busy": "2020-03-31T14:29:14.847Z",
          "iopub.execute_input": "2020-03-31T14:29:14.850Z",
          "iopub.status.idle": "2020-03-31T14:29:14.856Z",
          "shell.execute_reply": "2020-03-31T14:29:14.858Z"
        }
      }
    },
    {
      "cell_type": "code",
      "source": [
        "print(LibXCFunctional('gga_x_pbe_sol', spin=1).describe())\n",
        "print()\n",
        "print(LibXCFunctional('gga_c_pbe_sol', spin=1).describe())"
      ],
      "outputs": [
        {
          "output_type": "stream",
          "name": "stdout",
          "text": [
            "Functional ID: 116\n",
            "Functional Name: gga_x_pbe_sol\n",
            "Attributes:\n",
            "    Name: Perdew, Burke & Ernzerhof SOL\n",
            "    Kind: 0\n",
            "  Family: 2\n",
            "Citations:\n",
            "   J. P. Perdew, A. Ruzsinszky, G. I. Csonka, O. A. Vydrov, G. E. Scuseria, L. A. Constantin, X. Zhou, and K. Burke, Phys. Rev. Lett. 100, 136406 (2008)\n",
            "\n",
            "Functional ID: 133\n",
            "Functional Name: gga_c_pbe_sol\n",
            "Attributes:\n",
            "    Name: Perdew, Burke & Ernzerhof SOL\n",
            "    Kind: 1\n",
            "  Family: 2\n",
            "Citations:\n",
            "   J. P. Perdew, A. Ruzsinszky, G. I. Csonka, O. A. Vydrov, G. E. Scuseria, L. A. Constantin, X. Zhou, and K. Burke, Phys. Rev. Lett. 100, 136406 (2008)\n"
          ]
        }
      ],
      "execution_count": 31,
      "metadata": {
        "collapsed": false,
        "jupyter": {
          "source_hidden": false,
          "outputs_hidden": false
        },
        "nteract": {
          "transient": {
            "deleting": false
          }
        },
        "execution": {
          "iopub.status.busy": "2020-03-31T14:34:09.511Z",
          "iopub.execute_input": "2020-03-31T14:34:09.513Z",
          "iopub.status.idle": "2020-03-31T14:34:09.518Z",
          "shell.execute_reply": "2020-03-31T14:34:09.520Z"
        }
      }
    },
    {
      "cell_type": "code",
      "source": [],
      "outputs": [],
      "execution_count": null,
      "metadata": {
        "collapsed": false,
        "jupyter": {
          "source_hidden": false,
          "outputs_hidden": false
        },
        "nteract": {
          "transient": {
            "deleting": false
          }
        }
      }
    }
  ],
  "metadata": {
    "kernel_info": {
      "name": "python3"
    },
    "language_info": {
      "name": "python",
      "version": "3.7.6",
      "mimetype": "text/x-python",
      "codemirror_mode": {
        "name": "ipython",
        "version": 3
      },
      "pygments_lexer": "ipython3",
      "nbconvert_exporter": "python",
      "file_extension": ".py"
    },
    "kernelspec": {
      "argv": [
        "/home/ceresoli/Programs/miniconda3/bin/python",
        "-m",
        "ipykernel_launcher",
        "-f",
        "{connection_file}"
      ],
      "display_name": "Python 3",
      "language": "python",
      "name": "python3"
    },
    "nteract": {
      "version": "0.22.0"
    }
  },
  "nbformat": 4,
  "nbformat_minor": 0
}