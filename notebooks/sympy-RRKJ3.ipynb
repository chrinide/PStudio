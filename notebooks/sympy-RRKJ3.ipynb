{
  "cells": [
    {
      "cell_type": "code",
      "source": [
        "from sympy import *"
      ],
      "outputs": [],
      "execution_count": 1,
      "metadata": {
        "collapsed": false,
        "jupyter": {
          "source_hidden": false,
          "outputs_hidden": false
        },
        "nteract": {
          "transient": {
            "deleting": false
          }
        },
        "execution": {
          "iopub.status.busy": "2020-04-02T15:23:19.759Z",
          "iopub.execute_input": "2020-04-02T15:23:19.765Z",
          "shell.execute_reply": "2020-04-02T15:23:19.957Z",
          "iopub.status.idle": "2020-04-02T15:23:19.960Z"
        }
      }
    },
    {
      "cell_type": "code",
      "source": [
        "c0, c1, c2 = symbols('c0 c1 c2')\n",
        "A0, A1, A2 = symbols('A0 A1 A2')\n",
        "B0, B1, B2 = symbols('B0 B1 B2')\n",
        "C0, C1, C2 = symbols('C0 C1 C2')\n",
        "phip, phipp, Phi = symbols('phip phipp Phi')"
      ],
      "outputs": [],
      "execution_count": 22,
      "metadata": {
        "collapsed": false,
        "jupyter": {
          "source_hidden": false,
          "outputs_hidden": false
        },
        "nteract": {
          "transient": {
            "deleting": false
          }
        },
        "execution": {
          "iopub.status.busy": "2020-04-02T15:36:33.939Z",
          "iopub.execute_input": "2020-04-02T15:36:33.941Z",
          "iopub.status.idle": "2020-04-02T15:36:33.944Z",
          "shell.execute_reply": "2020-04-02T15:36:33.945Z"
        }
      }
    },
    {
      "cell_type": "code",
      "source": [
        "lhs = Matrix([[A1,B1],[A2,B2]])\n",
        "rhs = Matrix([phip-c0*A0, phipp-c0*B0])\n",
        "res, = linsolve((lhs,rhs))\n",
        "res"
      ],
      "outputs": [
        {
          "output_type": "execute_result",
          "execution_count": 37,
          "data": {
            "text/plain": [
              "((-A0*B2*c0 + B0*B1*c0 - B1*phipp + B2*phip)/(A1*B2 - A2*B1), (-A1*(B0*c0 - phipp) + A2*(A0*c0 - phip))/(A1*B2 - A2*B1))"
            ],
            "text/latex": [
              "$\\displaystyle \\left( \\frac{- A_{0} B_{2} c_{0} + B_{0} B_{1} c_{0} - B_{1} phipp + B_{2} phip}{A_{1} B_{2} - A_{2} B_{1}}, \\  \\frac{- A_{1} \\left(B_{0} c_{0} - phipp\\right) + A_{2} \\left(A_{0} c_{0} - phip\\right)}{A_{1} B_{2} - A_{2} B_{1}}\\right)$"
            ]
          },
          "metadata": {}
        }
      ],
      "execution_count": 37,
      "metadata": {
        "collapsed": false,
        "jupyter": {
          "source_hidden": false,
          "outputs_hidden": false
        },
        "nteract": {
          "transient": {
            "deleting": false
          }
        },
        "execution": {
          "iopub.status.busy": "2020-04-02T15:49:20.980Z",
          "iopub.execute_input": "2020-04-02T15:49:20.982Z",
          "iopub.status.idle": "2020-04-02T15:49:21.186Z",
          "shell.execute_reply": "2020-04-02T15:49:21.197Z"
        }
      }
    },
    {
      "cell_type": "code",
      "source": [
        "subst = {c1: res[0], c2: res[1]}\n",
        "quadratic = (c0**2*C0 + c1**2*C1 + c2**2*C2 - Phi).subs(subst)\n",
        "collected = quadratic.expand().collect(c0)\n",
        "collected"
      ],
      "outputs": [
        {
          "output_type": "execute_result",
          "execution_count": 38,
          "data": {
            "text/plain": [
              "A1**2*C2*phipp**2/(A1**2*B2**2 - 2*A1*A2*B1*B2 + A2**2*B1**2) - 2*A1*A2*C2*phip*phipp/(A1**2*B2**2 - 2*A1*A2*B1*B2 + A2**2*B1**2) + A2**2*C2*phip**2/(A1**2*B2**2 - 2*A1*A2*B1*B2 + A2**2*B1**2) + B1**2*C1*phipp**2/(A1**2*B2**2 - 2*A1*A2*B1*B2 + A2**2*B1**2) - 2*B1*B2*C1*phip*phipp/(A1**2*B2**2 - 2*A1*A2*B1*B2 + A2**2*B1**2) + B2**2*C1*phip**2/(A1**2*B2**2 - 2*A1*A2*B1*B2 + A2**2*B1**2) - Phi + c0**2*(A0**2*A2**2*C2/(A1**2*B2**2 - 2*A1*A2*B1*B2 + A2**2*B1**2) + A0**2*B2**2*C1/(A1**2*B2**2 - 2*A1*A2*B1*B2 + A2**2*B1**2) - 2*A0*A1*A2*B0*C2/(A1**2*B2**2 - 2*A1*A2*B1*B2 + A2**2*B1**2) - 2*A0*B0*B1*B2*C1/(A1**2*B2**2 - 2*A1*A2*B1*B2 + A2**2*B1**2) + A1**2*B0**2*C2/(A1**2*B2**2 - 2*A1*A2*B1*B2 + A2**2*B1**2) + B0**2*B1**2*C1/(A1**2*B2**2 - 2*A1*A2*B1*B2 + A2**2*B1**2) + C0) + c0*(2*A0*A1*A2*C2*phipp/(A1**2*B2**2 - 2*A1*A2*B1*B2 + A2**2*B1**2) - 2*A0*A2**2*C2*phip/(A1**2*B2**2 - 2*A1*A2*B1*B2 + A2**2*B1**2) + 2*A0*B1*B2*C1*phipp/(A1**2*B2**2 - 2*A1*A2*B1*B2 + A2**2*B1**2) - 2*A0*B2**2*C1*phip/(A1**2*B2**2 - 2*A1*A2*B1*B2 + A2**2*B1**2) - 2*A1**2*B0*C2*phipp/(A1**2*B2**2 - 2*A1*A2*B1*B2 + A2**2*B1**2) + 2*A1*A2*B0*C2*phip/(A1**2*B2**2 - 2*A1*A2*B1*B2 + A2**2*B1**2) - 2*B0*B1**2*C1*phipp/(A1**2*B2**2 - 2*A1*A2*B1*B2 + A2**2*B1**2) + 2*B0*B1*B2*C1*phip/(A1**2*B2**2 - 2*A1*A2*B1*B2 + A2**2*B1**2))"
            ],
            "text/latex": [
              "$\\displaystyle \\frac{A_{1}^{2} C_{2} phipp^{2}}{A_{1}^{2} B_{2}^{2} - 2 A_{1} A_{2} B_{1} B_{2} + A_{2}^{2} B_{1}^{2}} - \\frac{2 A_{1} A_{2} C_{2} phip phipp}{A_{1}^{2} B_{2}^{2} - 2 A_{1} A_{2} B_{1} B_{2} + A_{2}^{2} B_{1}^{2}} + \\frac{A_{2}^{2} C_{2} phip^{2}}{A_{1}^{2} B_{2}^{2} - 2 A_{1} A_{2} B_{1} B_{2} + A_{2}^{2} B_{1}^{2}} + \\frac{B_{1}^{2} C_{1} phipp^{2}}{A_{1}^{2} B_{2}^{2} - 2 A_{1} A_{2} B_{1} B_{2} + A_{2}^{2} B_{1}^{2}} - \\frac{2 B_{1} B_{2} C_{1} phip phipp}{A_{1}^{2} B_{2}^{2} - 2 A_{1} A_{2} B_{1} B_{2} + A_{2}^{2} B_{1}^{2}} + \\frac{B_{2}^{2} C_{1} phip^{2}}{A_{1}^{2} B_{2}^{2} - 2 A_{1} A_{2} B_{1} B_{2} + A_{2}^{2} B_{1}^{2}} - \\Phi + c_{0}^{2} \\left(\\frac{A_{0}^{2} A_{2}^{2} C_{2}}{A_{1}^{2} B_{2}^{2} - 2 A_{1} A_{2} B_{1} B_{2} + A_{2}^{2} B_{1}^{2}} + \\frac{A_{0}^{2} B_{2}^{2} C_{1}}{A_{1}^{2} B_{2}^{2} - 2 A_{1} A_{2} B_{1} B_{2} + A_{2}^{2} B_{1}^{2}} - \\frac{2 A_{0} A_{1} A_{2} B_{0} C_{2}}{A_{1}^{2} B_{2}^{2} - 2 A_{1} A_{2} B_{1} B_{2} + A_{2}^{2} B_{1}^{2}} - \\frac{2 A_{0} B_{0} B_{1} B_{2} C_{1}}{A_{1}^{2} B_{2}^{2} - 2 A_{1} A_{2} B_{1} B_{2} + A_{2}^{2} B_{1}^{2}} + \\frac{A_{1}^{2} B_{0}^{2} C_{2}}{A_{1}^{2} B_{2}^{2} - 2 A_{1} A_{2} B_{1} B_{2} + A_{2}^{2} B_{1}^{2}} + \\frac{B_{0}^{2} B_{1}^{2} C_{1}}{A_{1}^{2} B_{2}^{2} - 2 A_{1} A_{2} B_{1} B_{2} + A_{2}^{2} B_{1}^{2}} + C_{0}\\right) + c_{0} \\left(\\frac{2 A_{0} A_{1} A_{2} C_{2} phipp}{A_{1}^{2} B_{2}^{2} - 2 A_{1} A_{2} B_{1} B_{2} + A_{2}^{2} B_{1}^{2}} - \\frac{2 A_{0} A_{2}^{2} C_{2} phip}{A_{1}^{2} B_{2}^{2} - 2 A_{1} A_{2} B_{1} B_{2} + A_{2}^{2} B_{1}^{2}} + \\frac{2 A_{0} B_{1} B_{2} C_{1} phipp}{A_{1}^{2} B_{2}^{2} - 2 A_{1} A_{2} B_{1} B_{2} + A_{2}^{2} B_{1}^{2}} - \\frac{2 A_{0} B_{2}^{2} C_{1} phip}{A_{1}^{2} B_{2}^{2} - 2 A_{1} A_{2} B_{1} B_{2} + A_{2}^{2} B_{1}^{2}} - \\frac{2 A_{1}^{2} B_{0} C_{2} phipp}{A_{1}^{2} B_{2}^{2} - 2 A_{1} A_{2} B_{1} B_{2} + A_{2}^{2} B_{1}^{2}} + \\frac{2 A_{1} A_{2} B_{0} C_{2} phip}{A_{1}^{2} B_{2}^{2} - 2 A_{1} A_{2} B_{1} B_{2} + A_{2}^{2} B_{1}^{2}} - \\frac{2 B_{0} B_{1}^{2} C_{1} phipp}{A_{1}^{2} B_{2}^{2} - 2 A_{1} A_{2} B_{1} B_{2} + A_{2}^{2} B_{1}^{2}} + \\frac{2 B_{0} B_{1} B_{2} C_{1} phip}{A_{1}^{2} B_{2}^{2} - 2 A_{1} A_{2} B_{1} B_{2} + A_{2}^{2} B_{1}^{2}}\\right)$"
            ]
          },
          "metadata": {}
        }
      ],
      "execution_count": 38,
      "metadata": {
        "collapsed": false,
        "jupyter": {
          "source_hidden": false,
          "outputs_hidden": false
        },
        "nteract": {
          "transient": {
            "deleting": false
          }
        },
        "execution": {
          "iopub.status.busy": "2020-04-02T15:49:23.263Z",
          "iopub.execute_input": "2020-04-02T15:49:23.280Z",
          "iopub.status.idle": "2020-04-02T15:49:23.441Z",
          "shell.execute_reply": "2020-04-02T15:49:23.492Z"
        }
      }
    },
    {
      "cell_type": "code",
      "source": [
        "print('c =', collected.coeff(c0, 0).simplify())"
      ],
      "outputs": [
        {
          "output_type": "stream",
          "name": "stdout",
          "text": [
            "c = (A1**2*C2*phipp**2 - 2*A1*A2*C2*phip*phipp + A2**2*C2*phip**2 + B1**2*C1*phipp**2 - 2*B1*B2*C1*phip*phipp + B2**2*C1*phip**2 - Phi*(A1**2*B2**2 - 2*A1*A2*B1*B2 + A2**2*B1**2))/(A1**2*B2**2 - 2*A1*A2*B1*B2 + A2**2*B1**2)\n"
          ]
        }
      ],
      "execution_count": 39,
      "metadata": {
        "collapsed": false,
        "jupyter": {
          "source_hidden": false,
          "outputs_hidden": false
        },
        "nteract": {
          "transient": {
            "deleting": false
          }
        },
        "execution": {
          "iopub.status.busy": "2020-04-02T15:50:56.369Z",
          "iopub.execute_input": "2020-04-02T15:50:56.371Z",
          "iopub.status.idle": "2020-04-02T15:50:56.582Z",
          "shell.execute_reply": "2020-04-02T15:50:56.587Z"
        }
      }
    },
    {
      "cell_type": "code",
      "source": [
        "print('b = ', collected.coeff(c0, 1).simplify())"
      ],
      "outputs": [
        {
          "output_type": "stream",
          "name": "stdout",
          "text": [
            "b =  2*(A0*A1*A2*C2*phipp - A0*A2**2*C2*phip + A0*B1*B2*C1*phipp - A0*B2**2*C1*phip - A1**2*B0*C2*phipp + A1*A2*B0*C2*phip - B0*B1**2*C1*phipp + B0*B1*B2*C1*phip)/(A1**2*B2**2 - 2*A1*A2*B1*B2 + A2**2*B1**2)\n"
          ]
        }
      ],
      "execution_count": 40,
      "metadata": {
        "collapsed": false,
        "jupyter": {
          "source_hidden": false,
          "outputs_hidden": false
        },
        "nteract": {
          "transient": {
            "deleting": false
          }
        },
        "execution": {
          "iopub.status.busy": "2020-04-02T15:50:57.259Z",
          "iopub.execute_input": "2020-04-02T15:50:57.291Z",
          "iopub.status.idle": "2020-04-02T15:50:57.453Z",
          "shell.execute_reply": "2020-04-02T15:50:57.460Z"
        }
      }
    },
    {
      "cell_type": "code",
      "source": [
        "print('a =', collected.coeff(c0, 2).simplify())"
      ],
      "outputs": [
        {
          "output_type": "stream",
          "name": "stdout",
          "text": [
            "a = (A0**2*A2**2*C2 + A0**2*B2**2*C1 - 2*A0*A1*A2*B0*C2 - 2*A0*B0*B1*B2*C1 + A1**2*B0**2*C2 + B0**2*B1**2*C1 + C0*(A1**2*B2**2 - 2*A1*A2*B1*B2 + A2**2*B1**2))/(A1**2*B2**2 - 2*A1*A2*B1*B2 + A2**2*B1**2)\n"
          ]
        }
      ],
      "execution_count": 41,
      "metadata": {
        "collapsed": false,
        "jupyter": {
          "source_hidden": false,
          "outputs_hidden": false
        },
        "nteract": {
          "transient": {
            "deleting": false
          }
        },
        "execution": {
          "iopub.status.busy": "2020-04-02T15:50:58.484Z",
          "iopub.execute_input": "2020-04-02T15:50:58.489Z",
          "iopub.status.idle": "2020-04-02T15:50:58.632Z",
          "shell.execute_reply": "2020-04-02T15:50:58.639Z"
        }
      }
    },
    {
      "cell_type": "code",
      "source": [
        "print('c1=', res[0])\n",
        "print('c2=', res[1])"
      ],
      "outputs": [
        {
          "output_type": "stream",
          "name": "stdout",
          "text": [
            "c1= (-A0*B2*c0 + A2*B0*c0 - A2*phipp + B2*phip)/(A1*B2 - A2*B1)\n",
            "c2= (-A1*(B0*c0 - phipp) + B1*(A0*c0 - phip))/(A1*B2 - A2*B1)\n"
          ]
        }
      ],
      "execution_count": 30,
      "metadata": {
        "collapsed": false,
        "jupyter": {
          "source_hidden": false,
          "outputs_hidden": false
        },
        "nteract": {
          "transient": {
            "deleting": false
          }
        },
        "execution": {
          "iopub.status.busy": "2020-04-02T15:38:41.179Z",
          "iopub.execute_input": "2020-04-02T15:38:41.180Z",
          "iopub.status.idle": "2020-04-02T15:38:41.185Z",
          "shell.execute_reply": "2020-04-02T15:38:41.186Z"
        }
      }
    },
    {
      "cell_type": "code",
      "source": [],
      "outputs": [],
      "execution_count": null,
      "metadata": {
        "collapsed": false,
        "jupyter": {
          "source_hidden": false,
          "outputs_hidden": false
        },
        "nteract": {
          "transient": {
            "deleting": false
          }
        }
      }
    }
  ],
  "metadata": {
    "kernel_info": {
      "name": "python3"
    },
    "language_info": {
      "name": "python",
      "version": "3.7.6",
      "mimetype": "text/x-python",
      "codemirror_mode": {
        "name": "ipython",
        "version": 3
      },
      "pygments_lexer": "ipython3",
      "nbconvert_exporter": "python",
      "file_extension": ".py"
    },
    "kernelspec": {
      "argv": [
        "/home/ceresoli/Programs/miniconda3/bin/python",
        "-m",
        "ipykernel_launcher",
        "-f",
        "{connection_file}"
      ],
      "display_name": "Python 3",
      "language": "python",
      "name": "python3"
    },
    "nteract": {
      "version": "0.22.0"
    }
  },
  "nbformat": 4,
  "nbformat_minor": 0
}