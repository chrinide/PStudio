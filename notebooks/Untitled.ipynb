{
  "cells": [
    {
      "cell_type": "code",
      "source": [
        "from sympy import *"
      ],
      "outputs": [],
      "execution_count": 67,
      "metadata": {
        "collapsed": false,
        "jupyter": {
          "source_hidden": false,
          "outputs_hidden": false
        },
        "nteract": {
          "transient": {
            "deleting": false
          }
        },
        "execution": {
          "iopub.status.busy": "2020-04-02T15:21:15.384Z",
          "iopub.execute_input": "2020-04-02T15:21:15.386Z",
          "shell.execute_reply": "2020-04-02T15:21:15.390Z",
          "iopub.status.idle": "2020-04-02T15:21:15.388Z"
        }
      }
    },
    {
      "cell_type": "code",
      "source": [
        "c0, c1, c2 = symbols('c0 c1 c2')\n",
        "A0, A1, A2 = symbols('A0 A1 A2')\n",
        "B0, B1, B2 = symbols('B0 B1 B2')\n",
        "C0, C1, C2 = symbols('C0 C1 C2')\n",
        "phip, phipp, Phi = symbols('\\phi\\' \\phi\\\" \\Phi')"
      ],
      "outputs": [],
      "execution_count": 57,
      "metadata": {
        "collapsed": false,
        "jupyter": {
          "source_hidden": false,
          "outputs_hidden": false
        },
        "nteract": {
          "transient": {
            "deleting": false
          }
        },
        "execution": {
          "iopub.status.busy": "2020-04-02T15:19:39.404Z",
          "iopub.execute_input": "2020-04-02T15:19:39.406Z",
          "iopub.status.idle": "2020-04-02T15:19:39.408Z",
          "shell.execute_reply": "2020-04-02T15:19:39.410Z"
        }
      }
    },
    {
      "cell_type": "code",
      "source": [
        "lhs = Matrix([[A1,A2],[B1,B2]])\n",
        "rhs = Matrix([phip-c0*A0, phipp-c0*B0])\n",
        "res, = linsolve((lhs,rhs), c1, c2)\n",
        "res"
      ],
      "outputs": [
        {
          "output_type": "execute_result",
          "execution_count": 60,
          "data": {
            "text/plain": [
              "((-A0*B2*c0 + A2*B0*c0 - A2*\\phi\" + B2*\\phi')/(A1*B2 - A2*B1), (-A1*(B0*c0 - \\phi\") + B1*(A0*c0 - \\phi'))/(A1*B2 - A2*B1))"
            ],
            "text/latex": [
              "$\\displaystyle \\left( \\frac{- A_{0} B_{2} c_{0} + A_{2} B_{0} c_{0} - A_{2} \\phi\" + B_{2} \\phi'}{A_{1} B_{2} - A_{2} B_{1}}, \\  \\frac{- A_{1} \\left(B_{0} c_{0} - \\phi\"\\right) + B_{1} \\left(A_{0} c_{0} - \\phi'\\right)}{A_{1} B_{2} - A_{2} B_{1}}\\right)$"
            ]
          },
          "metadata": {}
        }
      ],
      "execution_count": 60,
      "metadata": {
        "collapsed": false,
        "jupyter": {
          "source_hidden": false,
          "outputs_hidden": false
        },
        "nteract": {
          "transient": {
            "deleting": false
          }
        },
        "execution": {
          "iopub.status.busy": "2020-04-02T15:19:51.421Z",
          "iopub.execute_input": "2020-04-02T15:19:51.429Z",
          "iopub.status.idle": "2020-04-02T15:19:51.609Z",
          "shell.execute_reply": "2020-04-02T15:19:51.616Z"
        }
      }
    },
    {
      "cell_type": "code",
      "source": [
        "subst = {c1: res[0], c2: res[1]}"
      ],
      "outputs": [],
      "execution_count": 63,
      "metadata": {
        "collapsed": false,
        "jupyter": {
          "source_hidden": false,
          "outputs_hidden": false
        },
        "nteract": {
          "transient": {
            "deleting": false
          }
        },
        "execution": {
          "iopub.status.busy": "2020-04-02T15:21:03.007Z",
          "iopub.execute_input": "2020-04-02T15:21:03.008Z",
          "iopub.status.idle": "2020-04-02T15:21:03.011Z",
          "shell.execute_reply": "2020-04-02T15:21:03.012Z"
        }
      }
    },
    {
      "cell_type": "code",
      "source": [
        "solve(subs(c0^2*C0 + c1^2*C1 + c2^2*C2 - Phi, subst))"
      ],
      "outputs": [
        {
          "output_type": "error",
          "ename": "TypeError",
          "evalue": "'dict' object is not callable",
          "traceback": [
            "\u001b[0;31m---------------------------------------------------------------------------\u001b[0m",
            "\u001b[0;31mTypeError\u001b[0m                                 Traceback (most recent call last)",
            "\u001b[0;32m<ipython-input-66-d8664e89beb7>\u001b[0m in \u001b[0;36m<module>\u001b[0;34m\u001b[0m\n\u001b[0;32m----> 1\u001b[0;31m \u001b[0msolve\u001b[0m\u001b[0;34m(\u001b[0m\u001b[0msubs\u001b[0m\u001b[0;34m(\u001b[0m\u001b[0mc0\u001b[0m\u001b[0;34m^\u001b[0m\u001b[0;36m2\u001b[0m\u001b[0;34m*\u001b[0m\u001b[0mC0\u001b[0m \u001b[0;34m+\u001b[0m \u001b[0mc1\u001b[0m\u001b[0;34m^\u001b[0m\u001b[0;36m2\u001b[0m\u001b[0;34m*\u001b[0m\u001b[0mC1\u001b[0m \u001b[0;34m+\u001b[0m \u001b[0mc2\u001b[0m\u001b[0;34m^\u001b[0m\u001b[0;36m2\u001b[0m\u001b[0;34m*\u001b[0m\u001b[0mC2\u001b[0m \u001b[0;34m-\u001b[0m \u001b[0mPhi\u001b[0m\u001b[0;34m,\u001b[0m \u001b[0msubst\u001b[0m\u001b[0;34m)\u001b[0m\u001b[0;34m)\u001b[0m\u001b[0;34m\u001b[0m\u001b[0;34m\u001b[0m\u001b[0m\n\u001b[0m",
            "\u001b[0;31mTypeError\u001b[0m: 'dict' object is not callable"
          ]
        }
      ],
      "execution_count": 66,
      "metadata": {
        "collapsed": false,
        "jupyter": {
          "source_hidden": false,
          "outputs_hidden": false
        },
        "nteract": {
          "transient": {
            "deleting": false
          }
        },
        "execution": {
          "iopub.status.busy": "2020-04-02T15:21:09.346Z",
          "iopub.execute_input": "2020-04-02T15:21:09.348Z",
          "iopub.status.idle": "2020-04-02T15:21:09.355Z",
          "shell.execute_reply": "2020-04-02T15:21:09.358Z"
        }
      }
    },
    {
      "cell_type": "code",
      "source": [],
      "outputs": [],
      "execution_count": null,
      "metadata": {
        "collapsed": false,
        "jupyter": {
          "source_hidden": false,
          "outputs_hidden": false
        },
        "nteract": {
          "transient": {
            "deleting": false
          }
        }
      }
    }
  ],
  "metadata": {
    "kernel_info": {
      "name": "python3"
    },
    "language_info": {
      "name": "python",
      "version": "3.7.6",
      "mimetype": "text/x-python",
      "codemirror_mode": {
        "name": "ipython",
        "version": 3
      },
      "pygments_lexer": "ipython3",
      "nbconvert_exporter": "python",
      "file_extension": ".py"
    },
    "kernelspec": {
      "argv": [
        "/home/ceresoli/Programs/miniconda3/bin/python",
        "-m",
        "ipykernel_launcher",
        "-f",
        "{connection_file}"
      ],
      "display_name": "Python 3",
      "language": "python",
      "name": "python3"
    },
    "nteract": {
      "version": "0.22.0"
    }
  },
  "nbformat": 4,
  "nbformat_minor": 0
}