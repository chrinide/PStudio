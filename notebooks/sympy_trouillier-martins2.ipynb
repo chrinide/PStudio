{
  "cells": [
    {
      "cell_type": "code",
      "source": [
        "from sympy import *"
      ],
      "outputs": [],
      "execution_count": 2,
      "metadata": {
        "collapsed": false,
        "jupyter": {
          "source_hidden": false,
          "outputs_hidden": false
        },
        "nteract": {
          "transient": {
            "deleting": false
          }
        },
        "execution": {
          "iopub.status.busy": "2020-03-28T12:20:05.247Z",
          "iopub.execute_input": "2020-03-28T12:20:05.252Z",
          "shell.execute_reply": "2020-03-28T12:20:05.447Z",
          "iopub.status.idle": "2020-03-28T12:20:05.452Z"
        }
      }
    },
    {
      "cell_type": "code",
      "source": [
        "r, l = symbols('r l', positive=True, real=True)\n",
        "c0, c2, c4, c6, c8, c10, c12 = symbols('c0 c2 c4 c6 c8 c10 c12', real=True)"
      ],
      "outputs": [],
      "execution_count": 3,
      "metadata": {
        "collapsed": false,
        "jupyter": {
          "source_hidden": false,
          "outputs_hidden": false
        },
        "nteract": {
          "transient": {
            "deleting": false
          }
        },
        "execution": {
          "iopub.status.busy": "2020-03-28T12:20:05.620Z",
          "iopub.execute_input": "2020-03-28T12:20:05.624Z",
          "iopub.status.idle": "2020-03-28T12:20:05.630Z",
          "shell.execute_reply": "2020-03-28T12:20:05.633Z"
        }
      }
    },
    {
      "cell_type": "code",
      "source": [
        "#p = c0 + c2*r**2 + c4*r**4 + c6*r**6 + c8*r**8 + c10*r**10 + c12*r**12\n",
        "R = Function('R')\n",
        "p = log(R(r)/r**(l+1))"
      ],
      "outputs": [],
      "execution_count": 9,
      "metadata": {
        "collapsed": false,
        "jupyter": {
          "source_hidden": false,
          "outputs_hidden": false
        },
        "nteract": {
          "transient": {
            "deleting": false
          }
        },
        "execution": {
          "iopub.status.busy": "2020-03-28T12:22:04.338Z",
          "iopub.execute_input": "2020-03-28T12:22:04.340Z",
          "shell.execute_reply": "2020-03-28T12:22:04.347Z",
          "iopub.status.idle": "2020-03-28T12:22:04.345Z"
        }
      }
    },
    {
      "cell_type": "code",
      "source": [
        "p"
      ],
      "outputs": [
        {
          "output_type": "execute_result",
          "execution_count": 10,
          "data": {
            "text/plain": [
              "log(r**(-l - 1)*R(r))"
            ],
            "text/latex": [
              "$\\displaystyle \\log{\\left(r^{- l - 1} R{\\left(r \\right)} \\right)}$"
            ]
          },
          "metadata": {}
        }
      ],
      "execution_count": 10,
      "metadata": {
        "collapsed": false,
        "jupyter": {
          "source_hidden": false,
          "outputs_hidden": false
        },
        "nteract": {
          "transient": {
            "deleting": false
          }
        },
        "execution": {
          "iopub.status.busy": "2020-03-28T12:22:04.938Z",
          "iopub.execute_input": "2020-03-28T12:22:04.941Z",
          "iopub.status.idle": "2020-03-28T12:22:04.951Z",
          "shell.execute_reply": "2020-03-28T12:22:04.958Z"
        }
      }
    },
    {
      "cell_type": "code",
      "source": [
        "simplify(diff(p,r))"
      ],
      "outputs": [
        {
          "output_type": "execute_result",
          "execution_count": 16,
          "data": {
            "text/plain": [
              "-l/r + Derivative(R(r), r)/R(r) - 1/r"
            ],
            "text/latex": [
              "$\\displaystyle - \\frac{l}{r} + \\frac{\\frac{d}{d r} R{\\left(r \\right)}}{R{\\left(r \\right)}} - \\frac{1}{r}$"
            ]
          },
          "metadata": {}
        }
      ],
      "execution_count": 16,
      "metadata": {
        "collapsed": false,
        "jupyter": {
          "source_hidden": false,
          "outputs_hidden": false
        },
        "nteract": {
          "transient": {
            "deleting": false
          }
        },
        "execution": {
          "iopub.status.busy": "2020-03-28T12:22:40.152Z",
          "iopub.execute_input": "2020-03-28T12:22:40.154Z",
          "iopub.status.idle": "2020-03-28T12:22:40.182Z",
          "shell.execute_reply": "2020-03-28T12:22:40.193Z"
        }
      }
    },
    {
      "cell_type": "code",
      "source": [
        "simplify(diff(p,r,2))"
      ],
      "outputs": [
        {
          "output_type": "execute_result",
          "execution_count": 17,
          "data": {
            "text/plain": [
              "l/r**2 + Derivative(R(r), (r, 2))/R(r) - Derivative(R(r), r)**2/R(r)**2 + r**(-2)"
            ],
            "text/latex": [
              "$\\displaystyle \\frac{l}{r^{2}} + \\frac{\\frac{d^{2}}{d r^{2}} R{\\left(r \\right)}}{R{\\left(r \\right)}} - \\frac{\\left(\\frac{d}{d r} R{\\left(r \\right)}\\right)^{2}}{R^{2}{\\left(r \\right)}} + \\frac{1}{r^{2}}$"
            ]
          },
          "metadata": {}
        }
      ],
      "execution_count": 17,
      "metadata": {
        "collapsed": false,
        "jupyter": {
          "source_hidden": false,
          "outputs_hidden": false
        },
        "nteract": {
          "transient": {
            "deleting": false
          }
        },
        "execution": {
          "iopub.status.busy": "2020-03-28T12:22:44.712Z",
          "iopub.execute_input": "2020-03-28T12:22:44.714Z",
          "iopub.status.idle": "2020-03-28T12:22:44.850Z",
          "shell.execute_reply": "2020-03-28T12:22:44.858Z"
        }
      }
    },
    {
      "cell_type": "code",
      "source": [
        "simplify(diff(p,r,3))"
      ],
      "outputs": [
        {
          "output_type": "execute_result",
          "execution_count": 18,
          "data": {
            "text/plain": [
              "-2*l/r**3 + Derivative(R(r), (r, 3))/R(r) - 3*Derivative(R(r), r)*Derivative(R(r), (r, 2))/R(r)**2 + 2*Derivative(R(r), r)**3/R(r)**3 - 2/r**3"
            ],
            "text/latex": [
              "$\\displaystyle - \\frac{2 l}{r^{3}} + \\frac{\\frac{d^{3}}{d r^{3}} R{\\left(r \\right)}}{R{\\left(r \\right)}} - \\frac{3 \\frac{d}{d r} R{\\left(r \\right)} \\frac{d^{2}}{d r^{2}} R{\\left(r \\right)}}{R^{2}{\\left(r \\right)}} + \\frac{2 \\left(\\frac{d}{d r} R{\\left(r \\right)}\\right)^{3}}{R^{3}{\\left(r \\right)}} - \\frac{2}{r^{3}}$"
            ]
          },
          "metadata": {}
        }
      ],
      "execution_count": 18,
      "metadata": {
        "collapsed": false,
        "jupyter": {
          "source_hidden": false,
          "outputs_hidden": false
        },
        "nteract": {
          "transient": {
            "deleting": false
          }
        },
        "execution": {
          "iopub.status.busy": "2020-03-28T12:22:52.182Z",
          "iopub.execute_input": "2020-03-28T12:22:52.189Z",
          "iopub.status.idle": "2020-03-28T12:22:52.548Z",
          "shell.execute_reply": "2020-03-28T12:22:52.557Z"
        }
      }
    },
    {
      "cell_type": "code",
      "source": [
        "simplify(diff(p,r,4))"
      ],
      "outputs": [
        {
          "output_type": "execute_result",
          "execution_count": 19,
          "data": {
            "text/plain": [
              "6*l/r**4 + Derivative(R(r), (r, 4))/R(r) - 4*Derivative(R(r), r)*Derivative(R(r), (r, 3))/R(r)**2 - 3*Derivative(R(r), (r, 2))**2/R(r)**2 + 12*Derivative(R(r), r)**2*Derivative(R(r), (r, 2))/R(r)**3 - 6*Derivative(R(r), r)**4/R(r)**4 + 6/r**4"
            ],
            "text/latex": [
              "$\\displaystyle \\frac{6 l}{r^{4}} + \\frac{\\frac{d^{4}}{d r^{4}} R{\\left(r \\right)}}{R{\\left(r \\right)}} - \\frac{4 \\frac{d}{d r} R{\\left(r \\right)} \\frac{d^{3}}{d r^{3}} R{\\left(r \\right)}}{R^{2}{\\left(r \\right)}} - \\frac{3 \\left(\\frac{d^{2}}{d r^{2}} R{\\left(r \\right)}\\right)^{2}}{R^{2}{\\left(r \\right)}} + \\frac{12 \\left(\\frac{d}{d r} R{\\left(r \\right)}\\right)^{2} \\frac{d^{2}}{d r^{2}} R{\\left(r \\right)}}{R^{3}{\\left(r \\right)}} - \\frac{6 \\left(\\frac{d}{d r} R{\\left(r \\right)}\\right)^{4}}{R^{4}{\\left(r \\right)}} + \\frac{6}{r^{4}}$"
            ]
          },
          "metadata": {}
        }
      ],
      "execution_count": 19,
      "metadata": {
        "collapsed": false,
        "jupyter": {
          "source_hidden": false,
          "outputs_hidden": false
        },
        "nteract": {
          "transient": {
            "deleting": false
          }
        },
        "execution": {
          "iopub.status.busy": "2020-03-28T12:23:05.397Z",
          "iopub.execute_input": "2020-03-28T12:23:05.401Z",
          "iopub.status.idle": "2020-03-28T12:23:06.273Z",
          "shell.execute_reply": "2020-03-28T12:23:06.282Z"
        }
      }
    },
    {
      "cell_type": "code",
      "source": [],
      "outputs": [],
      "execution_count": null,
      "metadata": {
        "collapsed": false,
        "jupyter": {
          "source_hidden": false,
          "outputs_hidden": false
        },
        "nteract": {
          "transient": {
            "deleting": false
          }
        }
      }
    }
  ],
  "metadata": {
    "kernel_info": {
      "name": "python3"
    },
    "language_info": {
      "name": "python",
      "version": "3.7.6",
      "mimetype": "text/x-python",
      "codemirror_mode": {
        "name": "ipython",
        "version": 3
      },
      "pygments_lexer": "ipython3",
      "nbconvert_exporter": "python",
      "file_extension": ".py"
    },
    "kernelspec": {
      "argv": [
        "/home/ceresoli/Programs/miniconda3/bin/python",
        "-m",
        "ipykernel_launcher",
        "-f",
        "{connection_file}"
      ],
      "display_name": "Python 3",
      "language": "python",
      "name": "python3"
    },
    "nteract": {
      "version": "0.22.0"
    }
  },
  "nbformat": 4,
  "nbformat_minor": 0
}