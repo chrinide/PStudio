{
  "cells": [
    {
      "cell_type": "code",
      "source": [
        "import numpy as np\n",
        "import matplotlib.pyplot as plt"
      ],
      "outputs": [],
      "execution_count": 2,
      "metadata": {
        "collapsed": false,
        "jupyter": {
          "source_hidden": false,
          "outputs_hidden": false
        },
        "nteract": {
          "transient": {
            "deleting": false
          }
        },
        "execution": {
          "iopub.status.busy": "2020-04-03T07:42:29.904Z",
          "iopub.execute_input": "2020-04-03T07:42:29.906Z",
          "iopub.status.idle": "2020-04-03T07:42:29.996Z",
          "shell.execute_reply": "2020-04-03T07:42:29.994Z"
        }
      }
    },
    {
      "cell_type": "code",
      "source": [
        "def fdiff1_7p(f):\n",
        "    n = len(f)\n",
        "    df = np.zeros_like(f)\n",
        "    \n",
        "    forw_coeff = np.array([-49/20, 6, -15/2, 20/3, -15/4, 6/5, -1/6])\n",
        "    for i in range(3):\n",
        "        #print('forw:', i, i+7)\n",
        "        df[i] = np.sum(forw_coeff * f[i:i+7])\n",
        "    \n",
        "    cent_coeff = np.array([-1/60, 3/20, -3/4, 0, 3/4, -3/20, 1/60])\n",
        "    for i in range(3,n-3):\n",
        "        #print('cent:', i-3, i+4)\n",
        "        df[i] = np.sum(cent_coeff * f[i-3:i+4])\n",
        "        \n",
        "    back_coeff = -np.flip(forw_coeff)\n",
        "    for i in range(n-3,n):\n",
        "        #print('back:', i-6, i+1)\n",
        "        df[i] = np.sum(back_coeff * f[i-6:i+1])\n",
        "    \n",
        "    return df\n",
        "\n",
        "def fdiff2_7p(f):\n",
        "    n = len(f)\n",
        "    df = np.zeros_like(f)\n",
        "    \n",
        "    forw_coeff = np.array([203/45, -87/5, 117/4, -254/9, 33/2, -27/5, 137/180])\n",
        "    for i in range(3):\n",
        "        #print('forw:', i, i+7)\n",
        "        df[i] = np.sum(forw_coeff * f[i:i+7])\n",
        "    \n",
        "    cent_coeff = np.array([1/90, -3/20, 3/2, -49/18, 3/2, -3/20, 1/90])\n",
        "    for i in range(3,n-3):\n",
        "        #print('cent:', i-3, i+4)\n",
        "        df[i] = np.sum(cent_coeff * f[i-3:i+4])\n",
        "        \n",
        "    back_coeff = +np.flip(forw_coeff)\n",
        "    for i in range(n-3,n):\n",
        "        #print('back:', i-6, i+1)\n",
        "        df[i] = np.sum(back_coeff * f[i-6:i+1])\n",
        "    \n",
        "    return df"
      ],
      "outputs": [],
      "execution_count": 48,
      "metadata": {
        "collapsed": false,
        "jupyter": {
          "source_hidden": false,
          "outputs_hidden": false
        },
        "nteract": {
          "transient": {
            "deleting": false
          }
        },
        "execution": {
          "iopub.status.busy": "2020-04-03T08:03:29.802Z",
          "iopub.execute_input": "2020-04-03T08:03:29.806Z",
          "iopub.status.idle": "2020-04-03T08:03:29.810Z",
          "shell.execute_reply": "2020-04-03T08:03:29.814Z"
        }
      }
    },
    {
      "cell_type": "code",
      "source": [
        "dx = 0.1\n",
        "x = np.arange(0, 10, dx)\n",
        "f = np.sin(x)\n",
        "df = fdiff1_7p(f) / dx\n",
        "df2 = fdiff2_7p(f) / (dx*dx)"
      ],
      "outputs": [],
      "execution_count": 57,
      "metadata": {
        "collapsed": false,
        "jupyter": {
          "source_hidden": false,
          "outputs_hidden": false
        },
        "nteract": {
          "transient": {
            "deleting": false
          }
        },
        "execution": {
          "iopub.status.busy": "2020-04-03T08:05:12.150Z",
          "iopub.execute_input": "2020-04-03T08:05:12.152Z",
          "iopub.status.idle": "2020-04-03T08:05:12.156Z",
          "shell.execute_reply": "2020-04-03T08:05:12.157Z"
        }
      }
    },
    {
      "cell_type": "code",
      "source": [
        "fig = plt.figure(figsize=(8,6))\n",
        "plt.plot(x, np.cos(x))\n",
        "plt.plot(x, df, linestyle='none', marker='o')\n",
        "plt.show()"
      ],
      "outputs": [
        {
          "output_type": "display_data",
          "data": {
            "text/plain": [
              "<Figure size 576x432 with 1 Axes>"
            ],
            "image/png": "[encoded data removed]"
          },
          "metadata": {
            "needs_background": "light"
          }
        }
      ],
      "execution_count": 58,
      "metadata": {
        "collapsed": false,
        "jupyter": {
          "source_hidden": false,
          "outputs_hidden": false
        },
        "nteract": {
          "transient": {
            "deleting": false
          }
        },
        "execution": {
          "iopub.status.busy": "2020-04-03T08:05:12.832Z",
          "iopub.execute_input": "2020-04-03T08:05:12.835Z",
          "iopub.status.idle": "2020-04-03T08:05:12.934Z",
          "shell.execute_reply": "2020-04-03T08:05:12.938Z"
        }
      }
    },
    {
      "cell_type": "code",
      "source": [
        "fig = plt.figure(figsize=(8,6))\n",
        "plt.plot(x, -np.sin(x))\n",
        "plt.plot(x, df2, linestyle='none', marker='o')\n",
        "plt.show()"
      ],
      "outputs": [
        {
          "output_type": "display_data",
          "data": {
            "text/plain": [
              "<Figure size 576x432 with 1 Axes>"
            ],
            "image/png": "[encoded data removed]"
          },
          "metadata": {
            "needs_background": "light"
          }
        }
      ],
      "execution_count": 59,
      "metadata": {
        "collapsed": false,
        "jupyter": {
          "source_hidden": false,
          "outputs_hidden": false
        },
        "nteract": {
          "transient": {
            "deleting": false
          }
        },
        "execution": {
          "iopub.status.busy": "2020-04-03T08:05:13.919Z",
          "iopub.execute_input": "2020-04-03T08:05:13.922Z",
          "iopub.status.idle": "2020-04-03T08:05:14.014Z",
          "shell.execute_reply": "2020-04-03T08:05:14.018Z"
        }
      }
    },
    {
      "cell_type": "code",
      "source": [],
      "outputs": [],
      "execution_count": null,
      "metadata": {
        "collapsed": false,
        "jupyter": {
          "source_hidden": false,
          "outputs_hidden": false
        },
        "nteract": {
          "transient": {
            "deleting": false
          }
        }
      }
    },
    {
      "cell_type": "code",
      "source": [],
      "outputs": [],
      "execution_count": null,
      "metadata": {
        "collapsed": false,
        "jupyter": {
          "source_hidden": false,
          "outputs_hidden": false
        },
        "nteract": {
          "transient": {
            "deleting": false
          }
        }
      }
    }
  ],
  "metadata": {
    "kernel_info": {
      "name": "python3"
    },
    "language_info": {
      "name": "python",
      "version": "3.7.6",
      "mimetype": "text/x-python",
      "codemirror_mode": {
        "name": "ipython",
        "version": 3
      },
      "pygments_lexer": "ipython3",
      "nbconvert_exporter": "python",
      "file_extension": ".py"
    },
    "kernelspec": {
      "argv": [
        "/home/ceresoli/Programs/miniconda3/bin/python",
        "-m",
        "ipykernel_launcher",
        "-f",
        "{connection_file}"
      ],
      "display_name": "Python 3",
      "language": "python",
      "name": "python3"
    },
    "nteract": {
      "version": "0.22.0"
    }
  },
  "nbformat": 4,
  "nbformat_minor": 0
}