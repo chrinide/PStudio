{
  "cells": [
    {
      "cell_type": "code",
      "source": [
        "from sympy import *"
      ],
      "outputs": [],
      "execution_count": 5,
      "metadata": {
        "collapsed": false,
        "jupyter": {
          "source_hidden": false,
          "outputs_hidden": false
        },
        "nteract": {
          "transient": {
            "deleting": false
          }
        },
        "execution": {
          "iopub.status.busy": "2020-03-28T10:00:11.673Z",
          "iopub.execute_input": "2020-03-28T10:00:11.675Z",
          "shell.execute_reply": "2020-03-28T10:00:11.679Z",
          "iopub.status.idle": "2020-03-28T10:00:11.678Z"
        }
      }
    },
    {
      "cell_type": "code",
      "source": [
        "r, l = symbols('r l', positive=True, real=True)\n",
        "c0, c2, c4, c6, c8, c10, c12 = symbols('c0 c2 c4 c6 c8 c10 c12', real=True)"
      ],
      "outputs": [],
      "execution_count": 45,
      "metadata": {
        "collapsed": false,
        "jupyter": {
          "source_hidden": false,
          "outputs_hidden": false
        },
        "nteract": {
          "transient": {
            "deleting": false
          }
        },
        "execution": {
          "iopub.status.busy": "2020-03-28T10:12:47.604Z",
          "iopub.execute_input": "2020-03-28T10:12:47.607Z",
          "iopub.status.idle": "2020-03-28T10:12:47.612Z",
          "shell.execute_reply": "2020-03-28T10:12:47.615Z"
        }
      }
    },
    {
      "cell_type": "code",
      "source": [
        "#p = c0 + c2*r**2 + c4*r**4 + c6*r**6 + c8*r**8 + c10*r**10 + c12*r**12\n",
        "p = Function('p')\n",
        "R = r**(l+1) * exp(p(r))"
      ],
      "outputs": [],
      "execution_count": 76,
      "metadata": {
        "collapsed": false,
        "jupyter": {
          "source_hidden": false,
          "outputs_hidden": false
        },
        "nteract": {
          "transient": {
            "deleting": false
          }
        },
        "execution": {
          "iopub.status.busy": "2020-03-28T10:17:47.414Z",
          "iopub.execute_input": "2020-03-28T10:17:47.416Z",
          "shell.execute_reply": "2020-03-28T10:17:47.421Z",
          "iopub.status.idle": "2020-03-28T10:17:47.419Z"
        }
      }
    },
    {
      "cell_type": "code",
      "source": [
        "R"
      ],
      "outputs": [
        {
          "output_type": "execute_result",
          "execution_count": 77,
          "data": {
            "text/plain": [
              "r**(l + 1)*exp(p(r))"
            ],
            "text/latex": [
              "$\\displaystyle r^{l + 1} e^{p{\\left(r \\right)}}$"
            ]
          },
          "metadata": {}
        }
      ],
      "execution_count": 77,
      "metadata": {
        "collapsed": false,
        "jupyter": {
          "source_hidden": false,
          "outputs_hidden": false
        },
        "nteract": {
          "transient": {
            "deleting": false
          }
        },
        "execution": {
          "iopub.status.busy": "2020-03-28T10:17:47.936Z",
          "iopub.execute_input": "2020-03-28T10:17:47.939Z",
          "iopub.status.idle": "2020-03-28T10:17:47.946Z",
          "shell.execute_reply": "2020-03-28T10:17:47.949Z"
        }
      }
    },
    {
      "cell_type": "code",
      "source": [
        "simplify(diff(R,r)/R)"
      ],
      "outputs": [
        {
          "output_type": "execute_result",
          "execution_count": 80,
          "data": {
            "text/plain": [
              "(l + r*Derivative(p(r), r) + 1)/r"
            ],
            "text/latex": [
              "$\\displaystyle \\frac{l + r \\frac{d}{d r} p{\\left(r \\right)} + 1}{r}$"
            ]
          },
          "metadata": {}
        }
      ],
      "execution_count": 80,
      "metadata": {
        "collapsed": false,
        "jupyter": {
          "source_hidden": false,
          "outputs_hidden": false
        },
        "nteract": {
          "transient": {
            "deleting": false
          }
        },
        "execution": {
          "iopub.status.busy": "2020-03-28T10:18:28.427Z",
          "iopub.execute_input": "2020-03-28T10:18:28.428Z",
          "iopub.status.idle": "2020-03-28T10:18:28.450Z",
          "shell.execute_reply": "2020-03-28T10:18:28.459Z"
        }
      }
    },
    {
      "cell_type": "code",
      "source": [
        "simplify(diff(R,r,2)/R)"
      ],
      "outputs": [
        {
          "output_type": "execute_result",
          "execution_count": 71,
          "data": {
            "text/plain": [
              "(2*l*r*Derivative(p(r), r) + l*(l - 1) + r**2*(Derivative(p(r), r)**2 + Derivative(p(r), (r, 2))))/r**2"
            ],
            "text/latex": [
              "$\\displaystyle \\frac{2 l r \\frac{d}{d r} p{\\left(r \\right)} + l \\left(l - 1\\right) + r^{2} \\left(\\left(\\frac{d}{d r} p{\\left(r \\right)}\\right)^{2} + \\frac{d^{2}}{d r^{2}} p{\\left(r \\right)}\\right)}{r^{2}}$"
            ]
          },
          "metadata": {}
        }
      ],
      "execution_count": 71,
      "metadata": {
        "collapsed": false,
        "jupyter": {
          "source_hidden": false,
          "outputs_hidden": false
        },
        "nteract": {
          "transient": {
            "deleting": false
          }
        },
        "execution": {
          "iopub.status.busy": "2020-03-28T10:16:14.954Z",
          "iopub.execute_input": "2020-03-28T10:16:14.960Z",
          "iopub.status.idle": "2020-03-28T10:16:15.010Z",
          "shell.execute_reply": "2020-03-28T10:16:15.018Z"
        }
      }
    },
    {
      "cell_type": "code",
      "source": [
        "simplify(diff(R,r,3)/R)"
      ],
      "outputs": [
        {
          "output_type": "execute_result",
          "execution_count": 72,
          "data": {
            "text/plain": [
              "(3*l*r**2*(Derivative(p(r), r)**2 + Derivative(p(r), (r, 2))) + 3*l*r*(l - 1)*Derivative(p(r), r) + l*(l**2 - 3*l + 2) + r**3*(Derivative(p(r), r)**3 + 3*Derivative(p(r), r)*Derivative(p(r), (r, 2)) + Derivative(p(r), (r, 3))))/r**3"
            ],
            "text/latex": [
              "$\\displaystyle \\frac{3 l r^{2} \\left(\\left(\\frac{d}{d r} p{\\left(r \\right)}\\right)^{2} + \\frac{d^{2}}{d r^{2}} p{\\left(r \\right)}\\right) + 3 l r \\left(l - 1\\right) \\frac{d}{d r} p{\\left(r \\right)} + l \\left(l^{2} - 3 l + 2\\right) + r^{3} \\left(\\left(\\frac{d}{d r} p{\\left(r \\right)}\\right)^{3} + 3 \\frac{d}{d r} p{\\left(r \\right)} \\frac{d^{2}}{d r^{2}} p{\\left(r \\right)} + \\frac{d^{3}}{d r^{3}} p{\\left(r \\right)}\\right)}{r^{3}}$"
            ]
          },
          "metadata": {}
        }
      ],
      "execution_count": 72,
      "metadata": {
        "collapsed": false,
        "jupyter": {
          "source_hidden": false,
          "outputs_hidden": false
        },
        "nteract": {
          "transient": {
            "deleting": false
          }
        },
        "execution": {
          "iopub.status.busy": "2020-03-28T10:16:27.892Z",
          "iopub.execute_input": "2020-03-28T10:16:27.914Z",
          "iopub.status.idle": "2020-03-28T10:16:28.008Z",
          "shell.execute_reply": "2020-03-28T10:16:28.017Z"
        }
      }
    },
    {
      "cell_type": "code",
      "source": [
        "simplify(diff(R,r,4)/R)"
      ],
      "outputs": [
        {
          "output_type": "execute_result",
          "execution_count": 73,
          "data": {
            "text/plain": [
              "(4*l*r**3*(Derivative(p(r), r)**3 + 3*Derivative(p(r), r)*Derivative(p(r), (r, 2)) + Derivative(p(r), (r, 3))) + 6*l*r**2*(l - 1)*(Derivative(p(r), r)**2 + Derivative(p(r), (r, 2))) + 4*l*r*(l**2 - 3*l + 2)*Derivative(p(r), r) + l*(l**3 - 6*l**2 + 11*l - 6) + r**4*(Derivative(p(r), r)**4 + 6*Derivative(p(r), r)**2*Derivative(p(r), (r, 2)) + 4*Derivative(p(r), r)*Derivative(p(r), (r, 3)) + 3*Derivative(p(r), (r, 2))**2 + Derivative(p(r), (r, 4))))/r**4"
            ],
            "text/latex": [
              "$\\displaystyle \\frac{4 l r^{3} \\left(\\left(\\frac{d}{d r} p{\\left(r \\right)}\\right)^{3} + 3 \\frac{d}{d r} p{\\left(r \\right)} \\frac{d^{2}}{d r^{2}} p{\\left(r \\right)} + \\frac{d^{3}}{d r^{3}} p{\\left(r \\right)}\\right) + 6 l r^{2} \\left(l - 1\\right) \\left(\\left(\\frac{d}{d r} p{\\left(r \\right)}\\right)^{2} + \\frac{d^{2}}{d r^{2}} p{\\left(r \\right)}\\right) + 4 l r \\left(l^{2} - 3 l + 2\\right) \\frac{d}{d r} p{\\left(r \\right)} + l \\left(l^{3} - 6 l^{2} + 11 l - 6\\right) + r^{4} \\left(\\left(\\frac{d}{d r} p{\\left(r \\right)}\\right)^{4} + 6 \\left(\\frac{d}{d r} p{\\left(r \\right)}\\right)^{2} \\frac{d^{2}}{d r^{2}} p{\\left(r \\right)} + 4 \\frac{d}{d r} p{\\left(r \\right)} \\frac{d^{3}}{d r^{3}} p{\\left(r \\right)} + 3 \\left(\\frac{d^{2}}{d r^{2}} p{\\left(r \\right)}\\right)^{2} + \\frac{d^{4}}{d r^{4}} p{\\left(r \\right)}\\right)}{r^{4}}$"
            ]
          },
          "metadata": {}
        }
      ],
      "execution_count": 73,
      "metadata": {
        "collapsed": false,
        "jupyter": {
          "source_hidden": false,
          "outputs_hidden": false
        },
        "nteract": {
          "transient": {
            "deleting": false
          }
        },
        "execution": {
          "iopub.status.busy": "2020-03-28T10:16:36.994Z",
          "iopub.execute_input": "2020-03-28T10:16:36.997Z",
          "iopub.status.idle": "2020-03-28T10:16:37.302Z",
          "shell.execute_reply": "2020-03-28T10:16:37.325Z"
        }
      }
    },
    {
      "cell_type": "code",
      "source": [],
      "outputs": [],
      "execution_count": null,
      "metadata": {
        "collapsed": false,
        "jupyter": {
          "source_hidden": false,
          "outputs_hidden": false
        },
        "nteract": {
          "transient": {
            "deleting": false
          }
        }
      }
    }
  ],
  "metadata": {
    "kernel_info": {
      "name": "python3"
    },
    "language_info": {
      "name": "python",
      "version": "3.7.6",
      "mimetype": "text/x-python",
      "codemirror_mode": {
        "name": "ipython",
        "version": 3
      },
      "pygments_lexer": "ipython3",
      "nbconvert_exporter": "python",
      "file_extension": ".py"
    },
    "kernelspec": {
      "argv": [
        "/home/ceresoli/Programs/miniconda3/bin/python",
        "-m",
        "ipykernel_launcher",
        "-f",
        "{connection_file}"
      ],
      "display_name": "Python 3",
      "language": "python",
      "name": "python3"
    },
    "nteract": {
      "version": "0.22.0"
    }
  },
  "nbformat": 4,
  "nbformat_minor": 0
}