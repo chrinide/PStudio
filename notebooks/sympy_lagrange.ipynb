{
  "cells": [
    {
      "cell_type": "code",
      "source": [
        "from sympy import *\n",
        "from sympy.polys.specialpolys import interpolating_poly"
      ],
      "outputs": [],
      "execution_count": 1,
      "metadata": {
        "collapsed": false,
        "jupyter": {
          "source_hidden": false,
          "outputs_hidden": false
        },
        "nteract": {
          "transient": {
            "deleting": false
          }
        },
        "execution": {
          "iopub.status.busy": "2020-04-03T07:10:05.008Z",
          "iopub.execute_input": "2020-04-03T07:10:05.012Z",
          "shell.execute_reply": "2020-04-03T07:10:05.204Z",
          "iopub.status.idle": "2020-04-03T07:10:05.213Z"
        }
      }
    },
    {
      "cell_type": "code",
      "source": [
        "x, y = symbols('x y')"
      ],
      "outputs": [],
      "execution_count": 2,
      "metadata": {
        "collapsed": false,
        "jupyter": {
          "source_hidden": false,
          "outputs_hidden": false
        },
        "nteract": {
          "transient": {
            "deleting": false
          }
        },
        "execution": {
          "iopub.status.busy": "2020-04-03T07:10:05.217Z",
          "iopub.execute_input": "2020-04-03T07:10:05.220Z",
          "iopub.status.idle": "2020-04-03T07:10:05.225Z",
          "shell.execute_reply": "2020-04-03T07:10:05.208Z"
        }
      }
    },
    {
      "cell_type": "code",
      "source": [
        "subst = {'x0': 'X-h', 'x1': 'X', 'x2': 'X+h', \n",
        "         'y0': 'F(X-h)', 'y1': 'F(X)', 'y2': 'F(X+h)'}\n",
        "\n",
        "poly = interpolating_poly(3, x).subs(subst)\n",
        "poly"
      ],
      "outputs": [
        {
          "output_type": "execute_result",
          "execution_count": 5,
          "data": {
            "text/plain": [
              "(-X + x)*(-X - h + x)*F(X - h)/(2*h**2) + (-X + x)*(-X + h + x)*F(X + h)/(2*h**2) - (-X - h + x)*(-X + h + x)*F(X)/h**2"
            ],
            "text/latex": [
              "$\\displaystyle \\frac{\\left(- X + x\\right) \\left(- X - h + x\\right) F{\\left(X - h \\right)}}{2 h^{2}} + \\frac{\\left(- X + x\\right) \\left(- X + h + x\\right) F{\\left(X + h \\right)}}{2 h^{2}} - \\frac{\\left(- X - h + x\\right) \\left(- X + h + x\\right) F{\\left(X \\right)}}{h^{2}}$"
            ]
          },
          "metadata": {}
        }
      ],
      "execution_count": 5,
      "metadata": {
        "collapsed": false,
        "jupyter": {
          "source_hidden": false,
          "outputs_hidden": false
        },
        "nteract": {
          "transient": {
            "deleting": false
          }
        },
        "execution": {
          "iopub.status.busy": "2020-04-03T07:11:00.597Z",
          "iopub.execute_input": "2020-04-03T07:11:00.602Z",
          "iopub.status.idle": "2020-04-03T07:11:00.626Z",
          "shell.execute_reply": "2020-04-03T07:11:00.635Z"
        }
      }
    },
    {
      "cell_type": "code",
      "source": [
        "diff(poly, x).subs({'x':'X'}).expand().simplify()"
      ],
      "outputs": [
        {
          "output_type": "execute_result",
          "execution_count": 11,
          "data": {
            "text/plain": [
              "(-F(X - h) + F(X + h))/(2*h)"
            ],
            "text/latex": [
              "$\\displaystyle \\frac{- F{\\left(X - h \\right)} + F{\\left(X + h \\right)}}{2 h}$"
            ]
          },
          "metadata": {}
        }
      ],
      "execution_count": 11,
      "metadata": {
        "collapsed": false,
        "jupyter": {
          "source_hidden": false,
          "outputs_hidden": false
        },
        "nteract": {
          "transient": {
            "deleting": false
          }
        },
        "execution": {
          "iopub.status.busy": "2020-04-03T07:11:57.827Z",
          "iopub.execute_input": "2020-04-03T07:11:57.829Z",
          "iopub.status.idle": "2020-04-03T07:11:57.857Z",
          "shell.execute_reply": "2020-04-03T07:11:57.863Z"
        }
      }
    },
    {
      "cell_type": "code",
      "source": [
        "diff(poly, x, 2).subs({'x':'X'}).expand().simplify()"
      ],
      "outputs": [
        {
          "output_type": "execute_result",
          "execution_count": 12,
          "data": {
            "text/plain": [
              "(-2*F(X) + F(X - h) + F(X + h))/h**2"
            ],
            "text/latex": [
              "$\\displaystyle \\frac{- 2 F{\\left(X \\right)} + F{\\left(X - h \\right)} + F{\\left(X + h \\right)}}{h^{2}}$"
            ]
          },
          "metadata": {}
        }
      ],
      "execution_count": 12,
      "metadata": {
        "collapsed": false,
        "jupyter": {
          "source_hidden": false,
          "outputs_hidden": false
        },
        "nteract": {
          "transient": {
            "deleting": false
          }
        },
        "execution": {
          "iopub.status.busy": "2020-04-03T07:12:05.614Z",
          "iopub.execute_input": "2020-04-03T07:12:05.617Z",
          "iopub.status.idle": "2020-04-03T07:12:05.671Z",
          "shell.execute_reply": "2020-04-03T07:12:05.675Z"
        }
      }
    },
    {
      "cell_type": "code",
      "source": [
        "subst = {'x0': 'X-2*h', 'x1': 'X-h', 'x2': 'X', 'x3': 'X+h', 'x4': 'X+2*h', \n",
        "         'y0': 'F(X-2*h)', 'y1': 'F(X-h)', 'y2': 'F(X)', 'y3': 'F(X+h)', 'y4': 'F(X+2*h)'}\n",
        "poly = interpolating_poly(5, x).subs(subst)\n",
        "poly"
      ],
      "outputs": [
        {
          "output_type": "execute_result",
          "execution_count": 15,
          "data": {
            "text/plain": [
              "(-X + x)*(-X - 2*h + x)*(-X - h + x)*(-X + h + x)*F(X - 2*h)/(24*h**4) - (-X + x)*(-X - 2*h + x)*(-X - h + x)*(-X + 2*h + x)*F(X - h)/(6*h**4) - (-X + x)*(-X - 2*h + x)*(-X + h + x)*(-X + 2*h + x)*F(X + h)/(6*h**4) + (-X + x)*(-X - h + x)*(-X + h + x)*(-X + 2*h + x)*F(X + 2*h)/(24*h**4) + (-X - 2*h + x)*(-X - h + x)*(-X + h + x)*(-X + 2*h + x)*F(X)/(4*h**4)"
            ],
            "text/latex": [
              "$\\displaystyle \\frac{\\left(- X + x\\right) \\left(- X - 2 h + x\\right) \\left(- X - h + x\\right) \\left(- X + h + x\\right) F{\\left(X - 2 h \\right)}}{24 h^{4}} - \\frac{\\left(- X + x\\right) \\left(- X - 2 h + x\\right) \\left(- X - h + x\\right) \\left(- X + 2 h + x\\right) F{\\left(X - h \\right)}}{6 h^{4}} - \\frac{\\left(- X + x\\right) \\left(- X - 2 h + x\\right) \\left(- X + h + x\\right) \\left(- X + 2 h + x\\right) F{\\left(X + h \\right)}}{6 h^{4}} + \\frac{\\left(- X + x\\right) \\left(- X - h + x\\right) \\left(- X + h + x\\right) \\left(- X + 2 h + x\\right) F{\\left(X + 2 h \\right)}}{24 h^{4}} + \\frac{\\left(- X - 2 h + x\\right) \\left(- X - h + x\\right) \\left(- X + h + x\\right) \\left(- X + 2 h + x\\right) F{\\left(X \\right)}}{4 h^{4}}$"
            ]
          },
          "metadata": {}
        }
      ],
      "execution_count": 15,
      "metadata": {
        "collapsed": false,
        "jupyter": {
          "source_hidden": false,
          "outputs_hidden": false
        },
        "nteract": {
          "transient": {
            "deleting": false
          }
        },
        "execution": {
          "iopub.status.busy": "2020-04-03T07:13:29.642Z",
          "iopub.execute_input": "2020-04-03T07:13:29.647Z",
          "iopub.status.idle": "2020-04-03T07:13:29.724Z",
          "shell.execute_reply": "2020-04-03T07:13:29.738Z"
        }
      }
    },
    {
      "cell_type": "code",
      "source": [
        "diff(poly, x).subs({'x':'X'}).expand().simplify()"
      ],
      "outputs": [
        {
          "output_type": "execute_result",
          "execution_count": 16,
          "data": {
            "text/plain": [
              "(F(X - 2*h) - 8*F(X - h) + 8*F(X + h) - F(X + 2*h))/(12*h)"
            ],
            "text/latex": [
              "$\\displaystyle \\frac{F{\\left(X - 2 h \\right)} - 8 F{\\left(X - h \\right)} + 8 F{\\left(X + h \\right)} - F{\\left(X + 2 h \\right)}}{12 h}$"
            ]
          },
          "metadata": {}
        }
      ],
      "execution_count": 16,
      "metadata": {
        "collapsed": false,
        "jupyter": {
          "source_hidden": false,
          "outputs_hidden": false
        },
        "nteract": {
          "transient": {
            "deleting": false
          }
        },
        "execution": {
          "iopub.status.busy": "2020-04-03T07:13:44.981Z",
          "iopub.execute_input": "2020-04-03T07:13:44.985Z",
          "iopub.status.idle": "2020-04-03T07:13:45.110Z",
          "shell.execute_reply": "2020-04-03T07:13:45.117Z"
        }
      }
    },
    {
      "cell_type": "code",
      "source": [
        "diff(poly, x, 2).subs({'x':'X'}).expand().simplify()"
      ],
      "outputs": [
        {
          "output_type": "execute_result",
          "execution_count": 17,
          "data": {
            "text/plain": [
              "(-30*F(X) - F(X - 2*h) + 16*F(X - h) + 16*F(X + h) - F(X + 2*h))/(12*h**2)"
            ],
            "text/latex": [
              "$\\displaystyle \\frac{- 30 F{\\left(X \\right)} - F{\\left(X - 2 h \\right)} + 16 F{\\left(X - h \\right)} + 16 F{\\left(X + h \\right)} - F{\\left(X + 2 h \\right)}}{12 h^{2}}$"
            ]
          },
          "metadata": {}
        }
      ],
      "execution_count": 17,
      "metadata": {
        "collapsed": false,
        "jupyter": {
          "source_hidden": false,
          "outputs_hidden": false
        },
        "nteract": {
          "transient": {
            "deleting": false
          }
        },
        "execution": {
          "iopub.status.busy": "2020-04-03T07:13:52.820Z",
          "iopub.execute_input": "2020-04-03T07:13:52.822Z",
          "iopub.status.idle": "2020-04-03T07:13:53.119Z",
          "shell.execute_reply": "2020-04-03T07:13:53.126Z"
        }
      }
    },
    {
      "cell_type": "code",
      "source": [
        "subst = {'x0': 'X', 'x1': 'X+h', 'x2': 'X+2*h', 'x3': 'X+3*h', \n",
        "         'y0': 'F(X)', 'y1': 'F(X+h)', 'y2': 'F(X+2*h)', 'y3': 'F(X+3*h)'}\n",
        "poly = interpolating_poly(4, x).subs(subst)\n",
        "poly"
      ],
      "outputs": [
        {
          "output_type": "execute_result",
          "execution_count": 18,
          "data": {
            "text/plain": [
              "(-X + x)*(-X - 3*h + x)*(-X - 2*h + x)*F(X + h)/(2*h**3) - (-X + x)*(-X - 3*h + x)*(-X - h + x)*F(X + 2*h)/(2*h**3) + (-X + x)*(-X - 2*h + x)*(-X - h + x)*F(X + 3*h)/(6*h**3) - (-X - 3*h + x)*(-X - 2*h + x)*(-X - h + x)*F(X)/(6*h**3)"
            ],
            "text/latex": [
              "$\\displaystyle \\frac{\\left(- X + x\\right) \\left(- X - 3 h + x\\right) \\left(- X - 2 h + x\\right) F{\\left(X + h \\right)}}{2 h^{3}} - \\frac{\\left(- X + x\\right) \\left(- X - 3 h + x\\right) \\left(- X - h + x\\right) F{\\left(X + 2 h \\right)}}{2 h^{3}} + \\frac{\\left(- X + x\\right) \\left(- X - 2 h + x\\right) \\left(- X - h + x\\right) F{\\left(X + 3 h \\right)}}{6 h^{3}} - \\frac{\\left(- X - 3 h + x\\right) \\left(- X - 2 h + x\\right) \\left(- X - h + x\\right) F{\\left(X \\right)}}{6 h^{3}}$"
            ]
          },
          "metadata": {}
        }
      ],
      "execution_count": 18,
      "metadata": {
        "collapsed": false,
        "jupyter": {
          "source_hidden": false,
          "outputs_hidden": false
        },
        "nteract": {
          "transient": {
            "deleting": false
          }
        },
        "execution": {
          "iopub.status.busy": "2020-04-03T07:17:41.768Z",
          "iopub.execute_input": "2020-04-03T07:17:41.771Z",
          "iopub.status.idle": "2020-04-03T07:17:41.817Z",
          "shell.execute_reply": "2020-04-03T07:17:41.826Z"
        }
      }
    },
    {
      "cell_type": "code",
      "source": [
        "diff(poly, x, 2).subs({'x':'X'}).expand().simplify()"
      ],
      "outputs": [
        {
          "output_type": "execute_result",
          "execution_count": 19,
          "data": {
            "text/plain": [
              "(2*F(X) - 5*F(X + h) + 4*F(X + 2*h) - F(X + 3*h))/h**2"
            ],
            "text/latex": [
              "$\\displaystyle \\frac{2 F{\\left(X \\right)} - 5 F{\\left(X + h \\right)} + 4 F{\\left(X + 2 h \\right)} - F{\\left(X + 3 h \\right)}}{h^{2}}$"
            ]
          },
          "metadata": {}
        }
      ],
      "execution_count": 19,
      "metadata": {
        "collapsed": false,
        "jupyter": {
          "source_hidden": false,
          "outputs_hidden": false
        },
        "nteract": {
          "transient": {
            "deleting": false
          }
        },
        "execution": {
          "iopub.status.busy": "2020-04-03T07:17:50.696Z",
          "iopub.execute_input": "2020-04-03T07:17:50.700Z",
          "iopub.status.idle": "2020-04-03T07:17:50.848Z",
          "shell.execute_reply": "2020-04-03T07:17:50.857Z"
        }
      }
    },
    {
      "cell_type": "code",
      "source": [],
      "outputs": [],
      "execution_count": null,
      "metadata": {
        "collapsed": false,
        "jupyter": {
          "source_hidden": false,
          "outputs_hidden": false
        },
        "nteract": {
          "transient": {
            "deleting": false
          }
        }
      }
    }
  ],
  "metadata": {
    "kernel_info": {
      "name": "python3"
    },
    "language_info": {
      "name": "python",
      "version": "3.7.6",
      "mimetype": "text/x-python",
      "codemirror_mode": {
        "name": "ipython",
        "version": 3
      },
      "pygments_lexer": "ipython3",
      "nbconvert_exporter": "python",
      "file_extension": ".py"
    },
    "kernelspec": {
      "argv": [
        "/home/ceresoli/Programs/miniconda3/bin/python",
        "-m",
        "ipykernel_launcher",
        "-f",
        "{connection_file}"
      ],
      "display_name": "Python 3",
      "language": "python",
      "name": "python3"
    },
    "nteract": {
      "version": "0.22.0"
    }
  },
  "nbformat": 4,
  "nbformat_minor": 0
}