{
  "cells": [
    {
      "cell_type": "code",
      "source": [
        "import numpy as np\n",
        "import matplotlib.pyplot as plt\n",
        "import read_upf\n",
        "import importlib"
      ],
      "outputs": [],
      "execution_count": 10,
      "metadata": {
        "collapsed": false,
        "jupyter": {
          "source_hidden": false,
          "outputs_hidden": false
        },
        "nteract": {
          "transient": {
            "deleting": false
          }
        },
        "execution": {
          "iopub.status.busy": "2020-03-29T13:58:02.529Z",
          "iopub.execute_input": "2020-03-29T13:58:02.530Z",
          "shell.execute_reply": "2020-03-29T13:58:02.534Z",
          "iopub.status.idle": "2020-03-29T13:58:02.532Z"
        }
      }
    },
    {
      "cell_type": "code",
      "source": [
        "importlib.reload(read_upf)\n",
        "upf = read_upf.read_upf('C.pbe-tm-gipaw-dc.UPF')"
      ],
      "outputs": [],
      "execution_count": 33,
      "metadata": {
        "collapsed": false,
        "jupyter": {
          "source_hidden": false,
          "outputs_hidden": false
        },
        "nteract": {
          "transient": {
            "deleting": false
          }
        },
        "execution": {
          "iopub.status.busy": "2020-03-29T14:04:58.337Z",
          "iopub.execute_input": "2020-03-29T14:04:58.339Z",
          "iopub.status.idle": "2020-03-29T14:04:58.343Z",
          "shell.execute_reply": "2020-03-29T14:04:58.350Z"
        }
      }
    },
    {
      "cell_type": "code",
      "source": [
        "upf.__dict__"
      ],
      "outputs": [
        {
          "output_type": "execute_result",
          "execution_count": 34,
          "data": {
            "text/plain": [
              "{'version': 1,\n",
              " 'info': '\\nGenerated using \"atomic\" code by A. Dal Corso  (espresso distribution)     \\nAuthor: D.C.   Generation date: 14Sep2009                                  \\nC                                                                          \\n    1        The Pseudo was generated with a Scalar-Relativistic Calculation\\n    1 1.5400000E+00    L component and cutoff radius for Local Potential\\nnl pn  l   occ               Rcut            Rcut US             E pseu\\n2S  1  0  2.00      1.54000000000      1.54000000000     -1.01066959746\\n2P  2  1  2.00      1.54000000000      1.54000000000     -0.38848154851\\n',\n",
              " 'element': 'C',\n",
              " 'type': 'NC',\n",
              " 'nlcc': False,\n",
              " 'qexc': 'SLA PW PBX PBC',\n",
              " 'val': 4.0,\n",
              " 'lmax': 1,\n",
              " 'npoints': 1441,\n",
              " 'nwfc': 4,\n",
              " 'nproj': 1,\n",
              " 'r': array([5.59104380e-05, 5.64723472e-05, 5.70399038e-05, ...,\n",
              "        9.83212846e+01, 9.93094299e+01, 1.00307506e+02]),\n",
              " 'rab': array([5.59104380e-07, 5.64723472e-07, 5.70399038e-07, ...,\n",
              "        9.83212846e-01, 9.93094299e-01, 1.00307506e+00]),\n",
              " 'vloc': array([-9.12512778, -9.1251278 , -9.12512782, ..., -0.04068295,\n",
              "        -0.04027815, -0.03987737]),\n",
              " 'pswfc': [{'label': '2S',\n",
              "   'occ': 2.0,\n",
              "   'wfc': array([4.25017538e-05, 4.29289035e-05, 4.33603462e-05, ...,\n",
              "          0.00000000e+00, 0.00000000e+00, 0.00000000e+00])},\n",
              "  {'label': '3S',\n",
              "   'occ': 0.0,\n",
              "   'wfc': array([ 8.78871551e-06,  8.87704357e-06,  8.96625934e-06, ...,\n",
              "          -7.18452658e-06, -6.36791124e-06, -5.63700275e-06])},\n",
              "  {'label': '2P',\n",
              "   'occ': 2.0,\n",
              "   'wfc': array([7.18567007e-09, 7.33083024e-09, 7.47892283e-09, ...,\n",
              "          1.63716670e-26, 8.91331845e-27, 4.82294082e-27])},\n",
              "  {'label': '3P',\n",
              "   'occ': 0.0,\n",
              "   'wfc': array([ 9.40887783e-09,  9.59894977e-09,  9.79286141e-09, ...,\n",
              "          -8.26973434e-03, -8.20436274e-03, -8.13987494e-03])}],\n",
              " 'atrho': array([3.61279826e-09, 3.68578163e-09, 3.76023936e-09, ...,\n",
              "        5.36062959e-52, 1.58894491e-52, 4.65215162e-53])}"
            ]
          },
          "metadata": {}
        }
      ],
      "execution_count": 34,
      "metadata": {
        "collapsed": false,
        "jupyter": {
          "source_hidden": false,
          "outputs_hidden": false
        },
        "nteract": {
          "transient": {
            "deleting": false
          }
        },
        "execution": {
          "iopub.status.busy": "2020-03-29T14:04:59.366Z",
          "iopub.execute_input": "2020-03-29T14:04:59.367Z",
          "iopub.status.idle": "2020-03-29T14:04:59.372Z",
          "shell.execute_reply": "2020-03-29T14:04:59.373Z"
        }
      }
    },
    {
      "cell_type": "code",
      "source": [
        "plt.plot(upf.r, upf.vloc, label='vloc')\n",
        "plt.plot(upf.r, -upf.val/upf.r, label='-Z/r')\n",
        "plt.legend()\n",
        "plt.xlim(0,5)\n",
        "plt.ylim(-10,0)\n",
        "plt.show()\n",
        "\n",
        "diff = upf.vloc*upf.r + upf.val\n",
        "plt.plot(upf.r, diff)\n",
        "plt.xlim(0,5)\n",
        "plt.show()\n",
        "for i in range(upf.npoints-1,0,-1):\n",
        "    if abs(diff[i]) > 1e-3:\n",
        "        print('rcloc =', upf.r[i])\n",
        "        break"
      ],
      "outputs": [
        {
          "output_type": "display_data",
          "data": {
            "text/plain": [
              "<Figure size 432x288 with 1 Axes>"
            ],
            "image/png": "[encoded data removed]"
          },
          "metadata": {
            "needs_background": "light"
          }
        },
        {
          "output_type": "display_data",
          "data": {
            "text/plain": [
              "<Figure size 432x288 with 1 Axes>"
            ],
            "image/png": "[encoded data removed]"
          },
          "metadata": {
            "needs_background": "light"
          }
        },
        {
          "output_type": "stream",
          "name": "stdout",
          "text": [
            "rcloc = 1.50416891657\n"
          ]
        }
      ],
      "execution_count": 52,
      "metadata": {
        "collapsed": false,
        "jupyter": {
          "source_hidden": false,
          "outputs_hidden": false
        },
        "nteract": {
          "transient": {
            "deleting": false
          }
        },
        "execution": {
          "iopub.status.busy": "2020-03-29T14:11:18.181Z",
          "iopub.execute_input": "2020-03-29T14:11:18.183Z",
          "iopub.status.idle": "2020-03-29T14:11:18.358Z",
          "shell.execute_reply": "2020-03-29T14:11:18.362Z"
        }
      }
    },
    {
      "cell_type": "code",
      "source": [
        "for orb in upf.pswfc:\n",
        "    if orb['occ'] > 0:\n",
        "        plt.plot(upf.r, orb['wfc'], label=orb['label'])\n",
        "plt.legend()\n",
        "plt.xlim(0,5)\n",
        "plt.grid()\n",
        "plt.show()"
      ],
      "outputs": [
        {
          "output_type": "display_data",
          "data": {
            "text/plain": [
              "<Figure size 432x288 with 1 Axes>"
            ],
            "image/png": "[encoded data removed]"
          },
          "metadata": {
            "needs_background": "light"
          }
        }
      ],
      "execution_count": 54,
      "metadata": {
        "collapsed": false,
        "jupyter": {
          "source_hidden": false,
          "outputs_hidden": false
        },
        "nteract": {
          "transient": {
            "deleting": false
          }
        },
        "execution": {
          "iopub.status.busy": "2020-03-29T14:11:26.700Z",
          "iopub.execute_input": "2020-03-29T14:11:26.702Z",
          "iopub.status.idle": "2020-03-29T14:11:26.799Z",
          "shell.execute_reply": "2020-03-29T14:11:26.803Z"
        }
      }
    },
    {
      "cell_type": "code",
      "source": [],
      "outputs": [],
      "execution_count": null,
      "metadata": {
        "collapsed": false,
        "jupyter": {
          "source_hidden": false,
          "outputs_hidden": false
        },
        "nteract": {
          "transient": {
            "deleting": false
          }
        }
      }
    }
  ],
  "metadata": {
    "kernel_info": {
      "name": "python3"
    },
    "language_info": {
      "name": "python",
      "version": "3.7.6",
      "mimetype": "text/x-python",
      "codemirror_mode": {
        "name": "ipython",
        "version": 3
      },
      "pygments_lexer": "ipython3",
      "nbconvert_exporter": "python",
      "file_extension": ".py"
    },
    "kernelspec": {
      "argv": [
        "/home/ceresoli/Programs/miniconda3/bin/python",
        "-m",
        "ipykernel_launcher",
        "-f",
        "{connection_file}"
      ],
      "display_name": "Python 3",
      "language": "python",
      "name": "python3"
    },
    "nteract": {
      "version": "0.22.0"
    }
  },
  "nbformat": 4,
  "nbformat_minor": 0
}