{
  "cells": [
    {
      "cell_type": "markdown",
      "source": [
        "## All electron calculations, comparing to the ld1.x code of Quamtum Espresso"
      ],
      "metadata": {
        "nteract": {
          "transient": {
            "deleting": false
          }
        }
      }
    },
    {
      "cell_type": "code",
      "source": [
        "import numpy as np\n",
        "import matplotlib.pyplot as plt\n",
        "import subprocess\n",
        "\n",
        "# add pstudio to the search path\n",
        "import sys\n",
        "sys.path.append('..')"
      ],
      "outputs": [],
      "execution_count": 1,
      "metadata": {
        "collapsed": false,
        "jupyter": {
          "source_hidden": false,
          "outputs_hidden": false
        },
        "nteract": {
          "transient": {
            "deleting": false
          }
        },
        "execution": {
          "iopub.status.busy": "2020-04-16T08:58:30.321Z",
          "iopub.execute_input": "2020-04-16T08:58:30.324Z",
          "shell.execute_reply": "2020-04-16T08:58:30.463Z",
          "iopub.status.idle": "2020-04-16T08:58:30.467Z"
        }
      }
    },
    {
      "cell_type": "code",
      "source": [
        "from pstudio import AE, set_output\n",
        "from pstudio.configuration import *"
      ],
      "outputs": [],
      "execution_count": 2,
      "metadata": {
        "collapsed": false,
        "jupyter": {
          "source_hidden": false,
          "outputs_hidden": false
        },
        "nteract": {
          "transient": {
            "deleting": false
          }
        },
        "execution": {
          "iopub.status.busy": "2020-04-16T08:58:36.251Z",
          "iopub.execute_input": "2020-04-16T08:58:36.258Z",
          "iopub.status.idle": "2020-04-16T08:58:36.355Z",
          "shell.execute_reply": "2020-04-16T08:58:36.351Z"
        }
      }
    },
    {
      "cell_type": "code",
      "source": [
        "def ld1_create_input(atom, xcname='pz'):\n",
        "    el = Element(atom)\n",
        "    z = el.get_atomic_number()\n",
        "    conf = el.get_configuration()\n",
        "    \n",
        "    ld1_in = \"\"\"&input\n",
        "        title = '{0}'\n",
        "        prefix = '{0}'\n",
        "        zed = {1}\n",
        "        dft = '{2}'\n",
        "        config = '{3}'\n",
        "        rel = 1\n",
        "        iswitch = 1\n",
        "        beta = 0.2\n",
        "        xmin = -8.0, dx = 0.005\n",
        "        /\"\"\".format(atom, z, xcname, conf)\n",
        "    return ld1_in\n",
        "\n",
        "def ld1_run(inp, ld1='/home/ceresoli/Codes/q-e/bin/ld1.x'):\n",
        "    p = subprocess.Popen(ld1, stdin=subprocess.PIPE, stdout=subprocess.PIPE)\n",
        "    p.stdin.write(bytes(inp, encoding='ascii'))\n",
        "    out = p.communicate()[0]\n",
        "    p.stdin.close()\n",
        "    return str(out, encoding='ascii')\n",
        "\n",
        "def ld1_get_etot(out):\n",
        "    pos1 = out.find('Etot') + 6\n",
        "    pos2 = out.find(',', pos1) - 3\n",
        "    etot = float(out[pos1:pos2])\n",
        "    return etot/2.0 # rydberg to hartree"
      ],
      "outputs": [],
      "execution_count": 3,
      "metadata": {
        "collapsed": false,
        "jupyter": {
          "source_hidden": false,
          "outputs_hidden": false
        },
        "nteract": {
          "transient": {
            "deleting": false
          }
        },
        "execution": {
          "iopub.status.busy": "2020-04-16T08:58:37.513Z",
          "iopub.execute_input": "2020-04-16T08:58:37.515Z",
          "iopub.status.idle": "2020-04-16T08:58:37.520Z",
          "shell.execute_reply": "2020-04-16T08:58:37.522Z"
        }
      }
    },
    {
      "cell_type": "code",
      "source": [
        "def pstudio_etot(atom, xcname='lda'):\n",
        "    set_output(None)\n",
        "    ae = AE(atom, xcname)\n",
        "    ae.run()\n",
        "    return ae.Etot\n",
        "    \n",
        "def ld1_etot(atom, xcname='pz'):\n",
        "    inp = ld1_create_input(atom, xcname)\n",
        "    out = ld1_run(inp)\n",
        "    return ld1_get_etot(out)"
      ],
      "outputs": [],
      "execution_count": 4,
      "metadata": {
        "collapsed": false,
        "jupyter": {
          "source_hidden": false,
          "outputs_hidden": false
        },
        "nteract": {
          "transient": {
            "deleting": false
          }
        },
        "execution": {
          "iopub.status.busy": "2020-04-16T08:58:38.554Z",
          "iopub.execute_input": "2020-04-16T08:58:38.557Z",
          "iopub.status.idle": "2020-04-16T08:58:38.563Z",
          "shell.execute_reply": "2020-04-16T08:58:38.566Z"
        }
      }
    },
    {
      "cell_type": "code",
      "source": [
        "print('=====================================================================')  \n",
        "print('Atom          PStudio                LD1           Abs.err.  Rel.err.')  \n",
        "print('=====================================================================')  \n",
        "for atom in atom_table:\n",
        "    pst = pstudio_etot(atom)\n",
        "    ld1 = ld1_etot(atom)\n",
        "    aerr = abs(pst-ld1)\n",
        "    rerr = abs(pst-ld1)/abs(ld1) * 100\n",
        "    print('{0:2s} {1:18.6f} {2:18.6f} {3:18.6f} {4:8.4f}%'.format(atom, pst, ld1, aerr, rerr))"
      ],
      "outputs": [
        {
          "output_type": "stream",
          "name": "stdout",
          "text": [
            "=====================================================================\n",
            "Atom          PStudio                LD1           Abs.err.  Rel.err.\n",
            "=====================================================================\n",
            "H           -0.445896          -0.445899           0.000003   0.0006%\n",
            "He          -2.834423          -2.834419           0.000004   0.0001%\n",
            "Li          -7.334881          -7.334878           0.000003   0.0000%\n",
            "Be         -14.449031         -14.449025           0.000006   0.0000%\n",
            "B          -24.350610         -24.350603           0.000007   0.0000%\n",
            "C          -37.440489         -37.440480           0.000009   0.0000%\n",
            "N          -54.053911         -54.053902           0.000009   0.0000%\n",
            "O          -74.524978         -74.524969           0.000009   0.0000%\n",
            "F          -99.186849         -99.186840           0.000009   0.0000%\n",
            "Ne        -128.372234        -128.372226           0.000008   0.0000%\n",
            "Na        -161.652814        -161.652805           0.000009   0.0000%\n",
            "Mg        -199.453675        -199.453666           0.000009   0.0000%\n",
            "Al        -241.763848        -241.763838           0.000010   0.0000%\n",
            "Si        -288.819834        -288.819825           0.000008   0.0000%\n",
            "P         -340.787121        -340.787112           0.000008   0.0000%\n",
            "S         -397.830714        -397.830704           0.000010   0.0000%\n",
            "Cl        -460.115597        -460.115587           0.000010   0.0000%\n",
            "Ar        -527.807210        -527.807200           0.000010   0.0000%\n",
            "K         -600.556323        -600.556320           0.000003   0.0000%\n",
            "Ca        -678.689044        -678.689052           0.000008   0.0000%\n",
            "Sc        -762.317250        -762.317240           0.000010   0.0000%\n",
            "Ti        -851.721779        -851.721771           0.000008   0.0000%\n",
            "V         -947.058353        -947.058344           0.000008   0.0000%\n",
            "Cr       -1048.477666       -1048.477657           0.000009   0.0000%\n",
            "Mn       -1156.138132       -1156.138123           0.000008   0.0000%\n",
            "Fe       -1270.185387       -1270.185380           0.000007   0.0000%\n",
            "Co       -1390.773818       -1390.773812           0.000006   0.0000%\n",
            "Ni       -1518.056143       -1518.056135           0.000008   0.0000%\n",
            "Cu       -1652.259260       -1652.259251           0.000009   0.0000%\n",
            "Zn       -1793.316255       -1793.316249           0.000006   0.0000%\n",
            "Ga       -1941.118397       -1941.118391           0.000006   0.0000%\n",
            "Ge       -2095.896421       -2095.896415           0.000006   0.0000%\n",
            "As       -2257.750916       -2257.750910           0.000005   0.0000%\n",
            "Se       -2426.787202       -2426.787199           0.000003   0.0000%\n",
            "Br       -2603.113693       -2603.113690           0.000003   0.0000%\n",
            "Kr       -2786.841182       -2786.841181           0.000001   0.0000%\n",
            "Rb       -2977.644308       -2977.644306           0.000001   0.0000%\n",
            "Sr       -3175.814495       -3175.814498           0.000002   0.0000%\n",
            "Y        -3381.387196       -3381.387200           0.000004   0.0000%\n",
            "Zr       -3594.596566       -3594.596569           0.000003   0.0000%\n",
            "Nb       -3815.544823       -3815.544829           0.000006   0.0000%\n",
            "Mo       -4044.418082       -4044.418092           0.000009   0.0000%\n",
            "Tc       -4281.257579       -4281.257589           0.000011   0.0000%\n",
            "Ru       -4526.277052       -4526.277065           0.000013   0.0000%\n",
            "Rh       -4779.500070       -4779.500088           0.000018   0.0000%\n",
            "Pd       -5041.131076       -5041.131099           0.000022   0.0000%\n",
            "Ag       -5311.132659       -5311.132685           0.000025   0.0000%\n",
            "Cd       -5589.609856       -5589.609881           0.000026   0.0000%\n",
            "In       -5876.445886       -5876.445918           0.000032   0.0000%\n",
            "Sn       -6171.866193       -6171.866235           0.000042   0.0000%\n",
            "Sb       -6475.967318       -6475.967361           0.000043   0.0000%\n",
            "Te       -6788.848779       -6788.848829           0.000050   0.0000%\n",
            "I        -7110.612540       -7110.612598           0.000058   0.0000%\n",
            "Xe       -7441.362823       -7441.362887           0.000064   0.0000%\n",
            "Cs       -7780.834486       -7780.834568           0.000081   0.0000%\n",
            "Ba       -8129.312306       -8129.312394           0.000088   0.0000%\n",
            "La       -8486.873997       -8486.874090           0.000094   0.0000%\n",
            "Ce       -8853.888352       -8853.888458           0.000107   0.0000%\n",
            "Pr       -9230.606283       -9230.606406           0.000122   0.0000%\n",
            "Nd       -9617.099256       -9617.099394           0.000138   0.0000%\n",
            "Pm      -10013.517934      -10013.518092           0.000158   0.0000%\n",
            "Sm      -10419.999611      -10419.999788           0.000176   0.0000%\n",
            "Eu      -10836.682999      -10836.683199           0.000201   0.0000%\n",
            "Gd      -11263.568390      -11263.568600           0.000210   0.0000%\n",
            "Tb      -11701.218619      -11701.218858           0.000239   0.0000%\n",
            "Dy      -12149.357756      -12149.358024           0.000268   0.0000%\n",
            "Ho      -12608.272767      -12608.273061           0.000294   0.0000%\n",
            "Er      -13078.112875      -13078.113195           0.000320   0.0000%\n",
            "Tm      -13559.029898      -13559.030263           0.000365   0.0000%\n",
            "Yb      -14051.178370      -14051.178775           0.000405   0.0000%\n",
            "Lu      -14554.526672      -14554.527134           0.000462   0.0000%\n",
            "Hf      -15069.205193      -15069.205705           0.000512   0.0000%\n",
            "Ta      -15595.349551      -15595.350125           0.000573   0.0000%\n",
            "W       -16133.101534      -16133.102171           0.000637   0.0000%\n",
            "Re      -16682.608474      -16682.609182           0.000708   0.0000%\n",
            "Os      -17244.022902      -17244.023697           0.000795   0.0000%\n",
            "Ir      -17817.502406      -17817.503290           0.000884   0.0000%\n",
            "Pt      -18403.243742      -18403.244733           0.000991   0.0000%\n",
            "Au      -19001.370831      -19001.371935           0.001105   0.0000%\n",
            "Hg      -19611.982401      -19611.983633           0.001233   0.0000%\n",
            "Tl      -20234.978755      -20234.980143           0.001387   0.0000%\n",
            "Pb      -20870.700602      -20870.702153           0.001551   0.0000%\n",
            "Bi      -21519.318707      -21519.320439           0.001732   0.0000%\n",
            "Po      -22181.011640      -22181.013584           0.001943   0.0000%\n",
            "At      -22855.965229      -22855.967400           0.002171   0.0000%\n",
            "Rn      -23544.372644      -23544.375084           0.002440   0.0000%\n",
            "Fr      -24246.103662      -24246.106404           0.002742   0.0000%\n",
            "Ra      -24961.538407      -24961.541479           0.003072   0.0000%\n",
            "Ac      -25690.821194      -25690.824646           0.003452   0.0000%\n",
            "Th      -26434.265417      -26434.269302           0.003884   0.0000%\n",
            "Pa      -27192.268224      -27192.272601           0.004377   0.0000%\n",
            "U       -27965.110717      -27965.115655           0.004937   0.0000%\n",
            "Np      -28753.058224      -28753.063801           0.005577   0.0000%\n",
            "Pu      -29556.456485      -29556.462788           0.006303   0.0000%\n",
            "Am      -30375.493708      -30375.500844           0.007135   0.0000%\n"
          ]
        }
      ],
      "execution_count": 8,
      "metadata": {
        "collapsed": false,
        "jupyter": {
          "source_hidden": false,
          "outputs_hidden": false
        },
        "nteract": {
          "transient": {
            "deleting": false
          }
        },
        "execution": {
          "iopub.status.busy": "2020-04-16T08:59:29.743Z",
          "iopub.execute_input": "2020-04-16T08:59:29.746Z",
          "iopub.status.idle": "2020-04-16T09:00:56.981Z",
          "shell.execute_reply": "2020-04-16T09:00:57.000Z"
        }
      }
    }
  ],
  "metadata": {
    "kernel_info": {
      "name": "python3"
    },
    "language_info": {
      "name": "python",
      "version": "3.7.7",
      "mimetype": "text/x-python",
      "codemirror_mode": {
        "name": "ipython",
        "version": 3
      },
      "pygments_lexer": "ipython3",
      "nbconvert_exporter": "python",
      "file_extension": ".py"
    },
    "kernelspec": {
      "argv": [
        "/home/ceresoli/Programs/miniconda3/bin/python",
        "-m",
        "ipykernel_launcher",
        "-f",
        "{connection_file}"
      ],
      "display_name": "Python 3",
      "language": "python",
      "name": "python3"
    },
    "nteract": {
      "version": "0.22.0"
    }
  },
  "nbformat": 4,
  "nbformat_minor": 0
}