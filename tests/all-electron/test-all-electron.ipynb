{
  "cells": [
    {
      "cell_type": "markdown",
      "source": [
        "## All electron calculations, comparing to the ld1.x code of Quamtum Espresso"
      ],
      "metadata": {
        "nteract": {
          "transient": {
            "deleting": false
          }
        }
      }
    },
    {
      "cell_type": "code",
      "source": [
        "import numpy as np\n",
        "import matplotlib.pyplot as plt\n",
        "import subprocess\n",
        "\n",
        "# add pstudio to the search path\n",
        "import sys\n",
        "sys.path.append('../..')"
      ],
      "outputs": [],
      "execution_count": 1,
      "metadata": {
        "collapsed": false,
        "jupyter": {
          "source_hidden": false,
          "outputs_hidden": false
        },
        "nteract": {
          "transient": {
            "deleting": false
          }
        },
        "execution": {
          "iopub.status.busy": "2020-04-17T20:44:26.314Z",
          "iopub.execute_input": "2020-04-17T20:44:26.320Z",
          "shell.execute_reply": "2020-04-17T20:44:26.460Z",
          "iopub.status.idle": "2020-04-17T20:44:26.464Z"
        }
      }
    },
    {
      "cell_type": "code",
      "source": [
        "from pstudio import AE, set_output\n",
        "from pstudio.configuration import *"
      ],
      "outputs": [],
      "execution_count": 2,
      "metadata": {
        "collapsed": false,
        "jupyter": {
          "source_hidden": false,
          "outputs_hidden": false
        },
        "nteract": {
          "transient": {
            "deleting": false
          }
        },
        "execution": {
          "iopub.status.busy": "2020-04-17T20:44:27.911Z",
          "iopub.execute_input": "2020-04-17T20:44:27.915Z",
          "iopub.status.idle": "2020-04-17T20:44:28.007Z",
          "shell.execute_reply": "2020-04-17T20:44:28.004Z"
        }
      }
    },
    {
      "cell_type": "code",
      "source": [
        "def ld1_create_input(atom, xcname='pz'):\n",
        "    el = Element(atom)\n",
        "    z = el.get_atomic_number()\n",
        "    conf = el.get_configuration()\n",
        "    \n",
        "    ld1_in = \"\"\"&input\n",
        "        title = '{0}'\n",
        "        prefix = '{0}'\n",
        "        zed = {1}\n",
        "        dft = '{2}'\n",
        "        config = '{3}'\n",
        "        rel = 1\n",
        "        iswitch = 1\n",
        "        beta = 0.2\n",
        "        xmin = -8.0, dx = 0.005\n",
        "        /\"\"\".format(atom, z, xcname, conf)\n",
        "    return ld1_in\n",
        "\n",
        "def ld1_run(inp, ld1='/home/ceresoli/Codes/q-e/bin/ld1.x'):\n",
        "    p = subprocess.Popen(ld1, stdin=subprocess.PIPE, stdout=subprocess.PIPE)\n",
        "    p.stdin.write(bytes(inp, encoding='ascii'))\n",
        "    out = p.communicate()[0]\n",
        "    p.stdin.close()\n",
        "    return str(out, encoding='ascii')\n",
        "\n",
        "def ld1_get_etot(out):\n",
        "    pos1 = out.find('Etot') + 6\n",
        "    pos2 = out.find(',', pos1) - 3\n",
        "    etot = float(out[pos1:pos2])\n",
        "    return etot/2.0 # rydberg to hartree"
      ],
      "outputs": [],
      "execution_count": 3,
      "metadata": {
        "collapsed": false,
        "jupyter": {
          "source_hidden": false,
          "outputs_hidden": false
        },
        "nteract": {
          "transient": {
            "deleting": false
          }
        },
        "execution": {
          "iopub.status.busy": "2020-04-17T20:44:29.651Z",
          "iopub.execute_input": "2020-04-17T20:44:29.653Z",
          "iopub.status.idle": "2020-04-17T20:44:29.658Z",
          "shell.execute_reply": "2020-04-17T20:44:29.661Z"
        }
      }
    },
    {
      "cell_type": "code",
      "source": [
        "def pstudio_etot(atom, xcname='lda'):\n",
        "    set_output(None)\n",
        "    ae = AE(atom, xcname)\n",
        "    ae.run()\n",
        "    return ae.Etot\n",
        "    \n",
        "def ld1_etot(atom, xcname='pz'):\n",
        "    inp = ld1_create_input(atom, xcname)\n",
        "    out = ld1_run(inp)\n",
        "    return ld1_get_etot(out)"
      ],
      "outputs": [],
      "execution_count": 4,
      "metadata": {
        "collapsed": false,
        "jupyter": {
          "source_hidden": false,
          "outputs_hidden": false
        },
        "nteract": {
          "transient": {
            "deleting": false
          }
        },
        "execution": {
          "iopub.status.busy": "2020-04-17T20:44:32.951Z",
          "iopub.execute_input": "2020-04-17T20:44:32.954Z",
          "iopub.status.idle": "2020-04-17T20:44:32.958Z",
          "shell.execute_reply": "2020-04-17T20:44:32.961Z"
        }
      }
    },
    {
      "cell_type": "code",
      "source": [
        "print('=====================================================================')  \n",
        "print('Atom          PStudio                LD1           Abs.err.  Rel.err.')  \n",
        "print('=====================================================================')  \n",
        "xcname = 'blyp'\n",
        "#for atom in atom_table:\n",
        "for atom in ('H', 'Ba', 'Zn', 'Ga', 'U'):\n",
        "    pst = pstudio_etot(atom, xcname)\n",
        "    ld1 = ld1_etot(atom, xcname)\n",
        "    aerr = abs(pst-ld1)\n",
        "    rerr = abs(pst-ld1)/abs(ld1) * 100\n",
        "    print('{0:2s} {1:18.6f} {2:18.6f} {3:18.6f} {4:8.4f}%'.format(atom, pst, ld1, aerr, rerr))"
      ],
      "outputs": [
        {
          "output_type": "stream",
          "name": "stdout",
          "text": [
            "=====================================================================\n",
            "Atom          PStudio                LD1           Abs.err.  Rel.err.\n",
            "=====================================================================\n",
            "H           -0.462616          -0.462529           0.000087   0.0188%\n",
            "Ba       -8136.281403       -8136.281836           0.000433   0.0000%\n",
            "Zn       -1796.393398       -1796.393593           0.000194   0.0000%\n",
            "Ga       -1944.326716       -1944.326767           0.000050   0.0000%\n",
            "U       -27980.322257      -27980.330025           0.007769   0.0000%\n"
          ]
        }
      ],
      "execution_count": 10,
      "metadata": {
        "collapsed": false,
        "jupyter": {
          "source_hidden": false,
          "outputs_hidden": false
        },
        "nteract": {
          "transient": {
            "deleting": false
          }
        },
        "execution": {
          "iopub.status.busy": "2020-04-17T20:46:31.487Z",
          "iopub.execute_input": "2020-04-17T20:46:31.488Z",
          "iopub.status.idle": "2020-04-17T20:46:40.515Z",
          "shell.execute_reply": "2020-04-17T20:46:40.527Z"
        }
      }
    },
    {
      "cell_type": "code",
      "source": [],
      "outputs": [],
      "execution_count": null,
      "metadata": {
        "collapsed": false,
        "jupyter": {
          "source_hidden": false,
          "outputs_hidden": false
        },
        "nteract": {
          "transient": {
            "deleting": false
          }
        }
      }
    }
  ],
  "metadata": {
    "kernel_info": {
      "name": "python3"
    },
    "language_info": {
      "name": "python",
      "version": "3.7.7",
      "mimetype": "text/x-python",
      "codemirror_mode": {
        "name": "ipython",
        "version": 3
      },
      "pygments_lexer": "ipython3",
      "nbconvert_exporter": "python",
      "file_extension": ".py"
    },
    "kernelspec": {
      "argv": [
        "/home/ceresoli/Programs/miniconda3/bin/python",
        "-m",
        "ipykernel_launcher",
        "-f",
        "{connection_file}"
      ],
      "display_name": "Python 3",
      "language": "python",
      "name": "python3"
    },
    "nteract": {
      "version": "0.22.0"
    }
  },
  "nbformat": 4,
  "nbformat_minor": 0
}